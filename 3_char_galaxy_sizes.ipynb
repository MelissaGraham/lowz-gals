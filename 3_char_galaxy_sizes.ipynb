{
 "cells": [
  {
   "cell_type": "markdown",
   "id": "0458abd6-1390-4eb0-9f64-f8457b1fee4b",
   "metadata": {
    "execution": {
     "iopub.execute_input": "2025-02-03T18:59:36.553660Z",
     "iopub.status.busy": "2025-02-03T18:59:36.553326Z",
     "iopub.status.idle": "2025-02-03T18:59:36.558032Z",
     "shell.execute_reply": "2025-02-03T18:59:36.557158Z",
     "shell.execute_reply.started": "2025-02-03T18:59:36.553619Z"
    }
   },
   "source": [
    "# Characterize the sizes of low-z galaxies in the catalog\n",
    "\n",
    "Characterize how many galaxies have sizes and what bands were used etc.\n",
    "\n",
    "Figure out if any clean up of the catalog is needed."
   ]
  },
  {
   "cell_type": "code",
   "execution_count": null,
   "id": "fb16b70a-a022-4569-8635-a7b44d110b50",
   "metadata": {},
   "outputs": [],
   "source": [
    "import numpy as np\n",
    "import matplotlib.pyplot as plt\n",
    "import os"
   ]
  },
  {
   "cell_type": "markdown",
   "id": "fd4b06ed-2856-481a-a5fb-c59255ad08b2",
   "metadata": {},
   "source": [
    "## Read the new list, with diameters"
   ]
  },
  {
   "cell_type": "code",
   "execution_count": null,
   "id": "2862cdf1-3263-4c3d-9024-6ca1b3032382",
   "metadata": {},
   "outputs": [],
   "source": [
    "fnm = \"lowz_galaxies_with_diameters_fix.csv\"\n",
    "gal_name = np.loadtxt(fnm, dtype='str', usecols=(0), delimiter=',')\n",
    "gal_ra = np.loadtxt(fnm, dtype='float', usecols=(1), delimiter=',')\n",
    "gal_dec = np.loadtxt(fnm, dtype='float', usecols=(2), delimiter=',')\n",
    "gal_z = np.loadtxt(fnm, dtype='float', usecols=(3), delimiter=',')\n",
    "\n",
    "gal_ma = np.loadtxt(fnm, dtype='float', usecols=(4), delimiter=',')\n",
    "gal_ar = np.loadtxt(fnm, dtype='float', usecols=(5), delimiter=',')\n",
    "gal_pa = np.loadtxt(fnm, dtype='float', usecols=(6), delimiter=',')\n",
    "gal_fr = np.loadtxt(fnm, dtype='float', usecols=(7), delimiter=',')"
   ]
  },
  {
   "cell_type": "code",
   "execution_count": null,
   "id": "4835cb05-bf64-48bf-906c-c8d978c07fd5",
   "metadata": {},
   "outputs": [],
   "source": [
    "print(len(gal_name))"
   ]
  },
  {
   "cell_type": "markdown",
   "id": "7537cfe0-2973-43f8-bde6-bf2ebc8dbc81",
   "metadata": {},
   "source": [
    "## Galaxies without size and shape"
   ]
  },
  {
   "cell_type": "code",
   "execution_count": null,
   "id": "f3e6d16a-f908-48d0-9354-4e6987dcd9ad",
   "metadata": {},
   "outputs": [],
   "source": [
    "tx = np.where(gal_ma < 0.0)[0]\n",
    "print(len(tx), '(' + str(np.round(100.0 * len(tx)/len(gal_name), 1)) + '%) have no diameter.')"
   ]
  },
  {
   "cell_type": "code",
   "execution_count": null,
   "id": "ef6d37bf-619e-431b-862d-ad2e3c4fbc06",
   "metadata": {},
   "outputs": [],
   "source": [
    "tx = np.where(gal_ar < 0.0)[0]\n",
    "print(len(tx), '(' + str(np.round(100.0 * len(tx)/len(gal_name), 1)) + '%) have no axis ratio.')"
   ]
  },
  {
   "cell_type": "code",
   "execution_count": null,
   "id": "e4b0ccbf-76cc-4b00-9d54-51f8a78b2173",
   "metadata": {},
   "outputs": [],
   "source": [
    "tx = np.where(gal_pa < 0.0)[0]\n",
    "print(len(tx), '(' + str(np.round(100.0 * len(tx)/len(gal_name), 1)) + '%) have no position angle.')"
   ]
  },
  {
   "cell_type": "code",
   "execution_count": null,
   "id": "d3fdaed1-79e2-417c-9192-3fb3d22acdf9",
   "metadata": {},
   "outputs": [],
   "source": [
    "fig = plt.figure(figsize = (6, 3))\n",
    "plt.plot(gal_ra, gal_dec, 'o', ms=2, mew=0, color='lightgrey', label='all')\n",
    "tx = np.where(gal_ma < 0.0)[0]\n",
    "plt.plot(gal_ra[tx], gal_dec[tx], 'o', ms=2, mew=0, color='darkred', label='no size')\n",
    "plt.xlabel('RA')\n",
    "plt.ylabel('Dec')\n",
    "plt.legend(loc='best')\n",
    "plt.show()"
   ]
  },
  {
   "cell_type": "code",
   "execution_count": null,
   "id": "736bac1a-bb4d-4c3c-b170-758c7efd3211",
   "metadata": {},
   "outputs": [],
   "source": [
    "fig = plt.figure(figsize=(3, 2))\n",
    "plt.hist(gal_z, log=True, color='lightgrey', label='all')\n",
    "tx = np.where(gal_ma < 0.0)[0]\n",
    "plt.hist(gal_z[tx], log=True, color='darkred', label='no size')\n",
    "plt.xlabel('redshift')\n",
    "plt.legend(loc='best')\n",
    "plt.show()"
   ]
  },
  {
   "cell_type": "markdown",
   "id": "f8f486bf-3d8e-473c-8f88-b23f6539ea22",
   "metadata": {},
   "source": [
    "## Distribution of size parameters\n",
    "\n",
    "### Major axis"
   ]
  },
  {
   "cell_type": "code",
   "execution_count": null,
   "id": "f61ff803-debc-49ba-bb3c-15f63d28a0db",
   "metadata": {},
   "outputs": [],
   "source": [
    "fig = plt.figure(figsize=(3, 2))\n",
    "plt.hist(gal_ma, log=True)\n",
    "plt.xlabel('major axis')\n",
    "plt.show()"
   ]
  },
  {
   "cell_type": "markdown",
   "id": "58415209-85f3-4201-bd77-f06085174bc0",
   "metadata": {},
   "source": [
    "What's up with the huge one?"
   ]
  },
  {
   "cell_type": "code",
   "execution_count": null,
   "id": "5eb44f7b-e64c-453f-9bce-7f3ad3d9c45b",
   "metadata": {},
   "outputs": [],
   "source": [
    "tx = np.where(gal_ma > 5000)[0]\n",
    "for x in tx: \n",
    "    print(gal_name[x], gal_ma[x])"
   ]
  },
  {
   "cell_type": "markdown",
   "id": "0b63ccde-05b9-4beb-a7de-b6bf14fea1ee",
   "metadata": {},
   "source": [
    "Show the LMC is not in the catalog."
   ]
  },
  {
   "cell_type": "code",
   "execution_count": null,
   "id": "4e5ec1d7-7841-4c92-9f4b-165fe81b3ce5",
   "metadata": {},
   "outputs": [],
   "source": [
    "for name in gal_name:\n",
    "    if name.find('Magellanic') >= 0:\n",
    "        print(name)"
   ]
  },
  {
   "cell_type": "markdown",
   "id": "a77566e3-831d-437f-890f-8b5b323ff628",
   "metadata": {
    "execution": {
     "iopub.execute_input": "2025-02-03T19:01:56.234549Z",
     "iopub.status.busy": "2025-02-03T19:01:56.234239Z",
     "iopub.status.idle": "2025-02-03T19:01:56.239174Z",
     "shell.execute_reply": "2025-02-03T19:01:56.238240Z",
     "shell.execute_reply.started": "2025-02-03T19:01:56.234526Z"
    }
   },
   "source": [
    "The distribution without the huge ones."
   ]
  },
  {
   "cell_type": "code",
   "execution_count": null,
   "id": "ed263cc5-4dd1-4515-a43c-7a5174be287c",
   "metadata": {},
   "outputs": [],
   "source": [
    "tx = np.where(gal_ma < 5000)[0]\n",
    "fig = plt.figure(figsize=(6, 2))\n",
    "plt.hist(gal_ma[tx], bins=60, log=True)\n",
    "plt.xlabel('major axis')\n",
    "plt.show()"
   ]
  },
  {
   "cell_type": "markdown",
   "id": "fb26afea-d618-4b21-8bf9-2e1f87ca8554",
   "metadata": {},
   "source": [
    "### Position angle"
   ]
  },
  {
   "cell_type": "code",
   "execution_count": null,
   "id": "1fd3de4c-169d-405c-9ab7-14192ecde00b",
   "metadata": {},
   "outputs": [],
   "source": [
    "tx = np.where((gal_ma < 5000) & (gal_ma > 0.0))[0]\n",
    "fig = plt.figure(figsize=(6, 2))\n",
    "plt.hist(gal_pa[tx], bins=60, log=True)\n",
    "plt.xlabel('position angle')\n",
    "plt.show()"
   ]
  },
  {
   "cell_type": "code",
   "execution_count": null,
   "id": "21c0ae60-b884-4980-9a75-fd8ef7ba2fec",
   "metadata": {},
   "outputs": [],
   "source": [
    "tx = np.where((gal_ma < 5000) & (gal_ma > 0.0) & (gal_pa > 300))[0]\n",
    "for x in tx:\n",
    "    print('%20s %6.1f %6.1f' % (gal_name[x], gal_ma[x], gal_pa[x]))"
   ]
  },
  {
   "cell_type": "markdown",
   "id": "b426344c-71fd-4c18-861e-119cfa533db2",
   "metadata": {},
   "source": [
    "### Axis ratio"
   ]
  },
  {
   "cell_type": "code",
   "execution_count": null,
   "id": "b586ac69-dfe9-49d0-a8c3-6c435d82b98d",
   "metadata": {},
   "outputs": [],
   "source": [
    "tx = np.where((gal_ma < 5000) & (gal_ma > 0.0))[0]\n",
    "fig = plt.figure(figsize=(6, 2))\n",
    "plt.hist(gal_ar[tx], bins=60, log=True)\n",
    "plt.xlabel('axis ratio')\n",
    "plt.show()"
   ]
  },
  {
   "cell_type": "markdown",
   "id": "b1dc9128-d9a4-4cf8-a1ce-e921a19e163b",
   "metadata": {},
   "source": [
    "## Duplicate and overlapping galaxies\n",
    "\n",
    "There are groups and interacting galaxies, and also duplicates.\n",
    "\n",
    "For example, NGC 1741 is a group (NCG 1741A, B) and there are duplicates in NED (NED02, NED03)"
   ]
  },
  {
   "cell_type": "code",
   "execution_count": null,
   "id": "11ccbd82-6809-485c-ad18-6a2af972da82",
   "metadata": {},
   "outputs": [],
   "source": [
    "os.system(\"grep 'NGC 1741' lowz_galaxies_with_diameters_fix.csv\")"
   ]
  },
  {
   "cell_type": "markdown",
   "id": "bb3eab5f-5474-4093-ba36-da182c5a7b3d",
   "metadata": {},
   "source": [
    "For each galaxy, sum the number of neighbors within a radius set by its semi-major axis.\n",
    "\n",
    "This measure of \"overlap\" is an overestimate since we're using semi-major axis as radius, and not considering ellipticity, orientation, etc."
   ]
  },
  {
   "cell_type": "code",
   "execution_count": null,
   "id": "b81fb072-766f-47b8-8cf6-74352a805834",
   "metadata": {},
   "outputs": [],
   "source": [
    "gal_nover = np.zeros(len(gal_name), dtype='int')\n",
    "for i, name in enumerate(gal_name):\n",
    "    temp = np.sqrt(((np.cos(np.deg2rad(gal_dec[i]))) * (gal_ra[i] - gal_ra))**2 + \n",
    "                   (gal_dec[i] - gal_dec)**2)\n",
    "    tx = np.where((temp > 0) & (temp < gal_ma[i]/3600.0/2.0))[0]\n",
    "    gal_nover[i] = len(tx)\n",
    "    del temp, tx  "
   ]
  },
  {
   "cell_type": "code",
   "execution_count": null,
   "id": "0896eee6-2fb6-4f41-8495-69fb5862dd90",
   "metadata": {},
   "outputs": [],
   "source": [
    "tx = np.where(gal_nover > 0.0)[0]\n",
    "print(len(tx), '(' + str(np.round(100.0 * len(tx)/len(gal_name), 1)) + \\\n",
    "      '%) galaxies have >0 overlapping galaxies.')"
   ]
  },
  {
   "cell_type": "code",
   "execution_count": null,
   "id": "4029ce0e-1427-4125-bdf6-1359416d1615",
   "metadata": {},
   "outputs": [],
   "source": [
    "fig = plt.figure(figsize=(6, 2))\n",
    "plt.hist(gal_nover, bins=np.max(gal_nover), log=True)\n",
    "plt.xlabel('N overlap')\n",
    "plt.show()"
   ]
  },
  {
   "cell_type": "markdown",
   "id": "a8069897-1e1d-42bb-818e-e1be2dea1e1d",
   "metadata": {},
   "source": [
    "What's up with the one galaxy with 15 overlaps?"
   ]
  },
  {
   "cell_type": "code",
   "execution_count": null,
   "id": "071c8175-7f9a-42f4-ba1b-9eaf10e2ebaa",
   "metadata": {},
   "outputs": [],
   "source": [
    "tx = np.where(gal_nover > 10)[0]\n",
    "for x in tx:\n",
    "    print(gal_name[x], gal_ma[x])"
   ]
  },
  {
   "cell_type": "code",
   "execution_count": null,
   "id": "116b8be0-a473-4b7a-a19a-0a0952a41db9",
   "metadata": {},
   "outputs": [],
   "source": [
    "os.system(\"grep 'NGC 1399' lowz_galaxies_with_diameters_fix.csv\")"
   ]
  },
  {
   "cell_type": "code",
   "execution_count": null,
   "id": "88699dd3-4163-450f-b40a-bbd0c972b7d8",
   "metadata": {},
   "outputs": [],
   "source": [
    "fig = plt.figure(figsize=(3, 2))\n",
    "plt.plot(gal_ma, gal_nover, 'o', alpha=0.3)\n",
    "plt.xlabel('major axis')\n",
    "plt.ylabel('N overlap')\n",
    "plt.show()\n",
    "\n",
    "fig = plt.figure(figsize=(3, 2))\n",
    "plt.plot(gal_ma, gal_nover, 'o', alpha=0.3)\n",
    "plt.xlim([-10, 510])\n",
    "plt.ylim([-1, 6])\n",
    "plt.xlabel('major axis')\n",
    "plt.ylabel('N overlap')\n",
    "plt.show()"
   ]
  },
  {
   "cell_type": "markdown",
   "id": "26f4482c-0c3e-4223-b1bd-a94ece5a542d",
   "metadata": {},
   "source": [
    "The number of overlaps isn't correlated with major axis so it's not just that the bigger ones have more 'chance' alignments. The overlaps are thus probably mostly duplicates and groups/pairs of galaxies."
   ]
  },
  {
   "cell_type": "code",
   "execution_count": null,
   "id": "e51cb618-ba62-41b2-9ef3-2f8e041a52f5",
   "metadata": {},
   "outputs": [],
   "source": [
    "tx = np.where((gal_nover > 0) & (gal_ma < 0.0))[0]\n",
    "print(len(tx))"
   ]
  },
  {
   "cell_type": "markdown",
   "id": "1d269503-43e2-41c7-a122-a1438c80bfe5",
   "metadata": {
    "execution": {
     "iopub.execute_input": "2025-02-03T21:38:55.068111Z",
     "iopub.status.busy": "2025-02-03T21:38:55.067821Z",
     "iopub.status.idle": "2025-02-03T21:38:55.072260Z",
     "shell.execute_reply": "2025-02-03T21:38:55.071674Z",
     "shell.execute_reply.started": "2025-02-03T21:38:55.068092Z"
    }
   },
   "source": [
    "Above shows none of the galaxies with overlaps were missing a major axis.\n",
    "\n",
    "This means that there is no chance of an alert being cross-matched to a galaxy that is a duplicate without a size, where it could have been matched to a duplicate WITH a size."
   ]
  },
  {
   "cell_type": "markdown",
   "id": "39996996-0294-4c95-b72c-2edae8e82204",
   "metadata": {},
   "source": [
    "## Last step\n",
    "\n",
    "Copy the fixed file to final/ and create a readme."
   ]
  },
  {
   "cell_type": "code",
   "execution_count": null,
   "id": "19c6f49a-ea7b-4d39-a742-08408f443054",
   "metadata": {},
   "outputs": [],
   "source": []
  }
 ],
 "metadata": {
  "kernelspec": {
   "display_name": "LSST",
   "language": "python",
   "name": "lsst"
  },
  "language_info": {
   "codemirror_mode": {
    "name": "ipython",
    "version": 3
   },
   "file_extension": ".py",
   "mimetype": "text/x-python",
   "name": "python",
   "nbconvert_exporter": "python",
   "pygments_lexer": "ipython3",
   "version": "3.11.9"
  }
 },
 "nbformat": 4,
 "nbformat_minor": 5
}
