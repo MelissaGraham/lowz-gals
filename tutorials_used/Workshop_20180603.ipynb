{
 "cells": [
  {
   "cell_type": "markdown",
   "metadata": {},
   "source": [
    "# Accessing NED data via VO services "
   ]
  },
  {
   "cell_type": "markdown",
   "metadata": {},
   "source": [
    "- The following were tested using:\n",
    "    - OS X 10.10.5\n",
    "    - conda 4.5.4\n",
    "    - python 3.6.4\n",
    "    - ipython 6.2.1\n",
    "- Modules used in this notebook - run the following to test if you have all the required modules installed"
   ]
  },
  {
   "cell_type": "code",
   "execution_count": 1,
   "metadata": {
    "execution": {
     "iopub.execute_input": "2025-01-31T22:22:22.905153Z",
     "iopub.status.busy": "2025-01-31T22:22:22.904494Z",
     "iopub.status.idle": "2025-01-31T22:22:23.892959Z",
     "shell.execute_reply": "2025-01-31T22:22:23.892345Z",
     "shell.execute_reply.started": "2025-01-31T22:22:22.905127Z"
    }
   },
   "outputs": [],
   "source": [
    "import json\n",
    "import requests\n",
    "import urllib.parse\n",
    "import io\n",
    "import matplotlib.pyplot as plt\n",
    "from astropy.table import Table\n",
    "\n",
    "# VO TAP queries via astroquery:\n",
    "from astroquery.utils.tap.core import TapPlus\n",
    "\n",
    "# VO TAP queries via pyvo:\n",
    "import pyvo as vo\n"
   ]
  },
  {
   "cell_type": "code",
   "execution_count": 46,
   "metadata": {
    "execution": {
     "iopub.execute_input": "2025-01-31T23:52:58.513296Z",
     "iopub.status.busy": "2025-01-31T23:52:58.513023Z",
     "iopub.status.idle": "2025-01-31T23:52:58.516881Z",
     "shell.execute_reply": "2025-01-31T23:52:58.516150Z",
     "shell.execute_reply.started": "2025-01-31T23:52:58.513275Z"
    }
   },
   "outputs": [],
   "source": [
    "import numpy as np"
   ]
  },
  {
   "cell_type": "markdown",
   "metadata": {},
   "source": [
    "- Last tested on: 15 June 2018\n",
    "- Additional information see: [link to docs](https://ned.ipac.caltech.edu)"
   ]
  },
  {
   "cell_type": "markdown",
   "metadata": {},
   "source": [
    "## Contents:\n",
    "\n",
    "(1) <a href='#ObjectLookup'>Object Lookup</a> - Find basic object information using object name\n",
    "\n",
    "(2) <a href='#TAP_cone'>TAP - Cone Search</a>\n",
    "\n",
    "(3) <a href='#TAP_poly'>TAP - Polygon Search</a>\n",
    "\n",
    "(4) <a href='#TAP_poly_z'>TAP - Polygon Search with Redshift Constraint</a>\n",
    "\n",
    "(5) <a href='#SED_plot'>SED Plot</a> - Fetch photometry data for a given list of object names and plot the SED"
   ]
  },
  {
   "cell_type": "markdown",
   "metadata": {},
   "source": [
    "<a id='ObjectLookup'></a>"
   ]
  },
  {
   "cell_type": "markdown",
   "metadata": {},
   "source": [
    "## (1) Object Lookup - Find basic object information using object name"
   ]
  },
  {
   "cell_type": "code",
   "execution_count": 2,
   "metadata": {
    "execution": {
     "iopub.execute_input": "2025-01-31T22:22:28.355702Z",
     "iopub.status.busy": "2025-01-31T22:22:28.355079Z",
     "iopub.status.idle": "2025-01-31T22:22:28.790119Z",
     "shell.execute_reply": "2025-01-31T22:22:28.789592Z",
     "shell.execute_reply.started": "2025-01-31T22:22:28.355672Z"
    }
   },
   "outputs": [
    {
     "name": "stdout",
     "output_type": "stream",
     "text": [
      "{\n",
      "    \"Copyright\": \"(C) 2025 California Institute of Technology\",\n",
      "    \"Interpreted\": {\n",
      "        \"Name\": \"Cygnus A\"\n",
      "    },\n",
      "    \"NameResolver\": \"NED-NNS\",\n",
      "    \"Preferred\": {\n",
      "        \"Name\": \"Cygnus A\",\n",
      "        \"ObjType\": {\n",
      "            \"RefCode\": null,\n",
      "            \"Value\": \"G\"\n",
      "        },\n",
      "        \"Position\": {\n",
      "            \"Dec\": 40.73391556,\n",
      "            \"PosAngle\": 0.0,\n",
      "            \"RA\": 299.86815,\n",
      "            \"RefCode\": \"2021AJ....162..121H\",\n",
      "            \"UncSemiMajor\": 6.944444444e-08,\n",
      "            \"UncSemiMinor\": 6.944444444e-08\n",
      "        },\n",
      "        \"Redshift\": {\n",
      "            \"QualityFlag\": \"UUN \",\n",
      "            \"RefCode\": \"2020MNRAS.493.3911H\",\n",
      "            \"Uncertainty\": 6.7e-05,\n",
      "            \"Value\": 0.0562\n",
      "        }\n",
      "    },\n",
      "    \"QueryTime\": \"Fri Jan 31 22:22:28 2025\",\n",
      "    \"ResultCode\": 3,\n",
      "    \"StatusCode\": 100,\n",
      "    \"Supplied\": \"cyg a\",\n",
      "    \"Version\": \"2.1\"\n",
      "}\n"
     ]
    }
   ],
   "source": [
    "# Use NED Object Lookup api to fetch basic object information for given object name\n",
    "# Documentation: http://vo.ned.ipac.caltech.edu/ui/Documents/ObjectLookup\n",
    "\n",
    "import json\n",
    "import requests\n",
    "import urllib.parse\n",
    "\n",
    "object_name  = 'cyg a'\n",
    "encoded_name = urllib.parse.quote_plus(object_name)   # need to encode special characters in object name \n",
    "\n",
    "NED_object_lookup  = \"http://ned.ipac.caltech.edu/srs/ObjectLookup?\"\n",
    "object_name_packet = 'json=' + json.dumps({\"name\":{\"v\":encoded_name}}, separators=(',',':'))\n",
    "NED_object_lookup_response = requests.post(NED_object_lookup, data = object_name_packet)\n",
    "if NED_object_lookup_response.status_code == 200:\n",
    "    ned_object_basic_info = json.loads(NED_object_lookup_response.content)\n",
    "    print(json.dumps(ned_object_basic_info, sort_keys=True,indent=4, separators=(',', ': ')))\n"
   ]
  },
  {
   "cell_type": "markdown",
   "metadata": {},
   "source": [
    "IC 5371"
   ]
  },
  {
   "cell_type": "code",
   "execution_count": 3,
   "metadata": {
    "execution": {
     "iopub.execute_input": "2025-01-31T22:23:18.853489Z",
     "iopub.status.busy": "2025-01-31T22:23:18.852855Z",
     "iopub.status.idle": "2025-01-31T22:23:19.288430Z",
     "shell.execute_reply": "2025-01-31T22:23:19.287816Z",
     "shell.execute_reply.started": "2025-01-31T22:23:18.853463Z"
    }
   },
   "outputs": [
    {
     "name": "stdout",
     "output_type": "stream",
     "text": [
      "{\n",
      "    \"Copyright\": \"(C) 2025 California Institute of Technology\",\n",
      "    \"Interpreted\": {\n",
      "        \"Name\": \"IC 5371\"\n",
      "    },\n",
      "    \"NameResolver\": \"NED-NNS\",\n",
      "    \"Preferred\": {\n",
      "        \"Name\": \"IC 5371\",\n",
      "        \"ObjType\": {\n",
      "            \"RefCode\": null,\n",
      "            \"Value\": \"G\"\n",
      "        },\n",
      "        \"Position\": {\n",
      "            \"Dec\": 32.8319804,\n",
      "            \"PosAngle\": 90.0,\n",
      "            \"RA\": 0.0616522,\n",
      "            \"RefCode\": \"2013wise.rept....1C\",\n",
      "            \"UncSemiMajor\": 2.465277778e-05,\n",
      "            \"UncSemiMinor\": 2.395833333e-05\n",
      "        },\n",
      "        \"Redshift\": {\n",
      "            \"QualityFlag\": \"SUN \",\n",
      "            \"RefCode\": \"1987Afz....26....5K\",\n",
      "            \"Uncertainty\": 9.99999975e-05,\n",
      "            \"Value\": 0.0313000008\n",
      "        }\n",
      "    },\n",
      "    \"QueryTime\": \"Fri Jan 31 22:23:19 2025\",\n",
      "    \"ResultCode\": 3,\n",
      "    \"StatusCode\": 100,\n",
      "    \"Supplied\": \"IC 5371\",\n",
      "    \"Version\": \"2.1\"\n",
      "}\n"
     ]
    }
   ],
   "source": [
    "object_name  = 'IC 5371'\n",
    "encoded_name = urllib.parse.quote_plus(object_name)   # need to encode special characters in object name \n",
    "\n",
    "NED_object_lookup  = \"http://ned.ipac.caltech.edu/srs/ObjectLookup?\"\n",
    "object_name_packet = 'json=' + json.dumps({\"name\":{\"v\":encoded_name}}, separators=(',',':'))\n",
    "NED_object_lookup_response = requests.post(NED_object_lookup, data = object_name_packet)\n",
    "if NED_object_lookup_response.status_code == 200:\n",
    "    ned_object_basic_info = json.loads(NED_object_lookup_response.content)\n",
    "    print(json.dumps(ned_object_basic_info, sort_keys=True,indent=4, separators=(',', ': ')))"
   ]
  },
  {
   "cell_type": "code",
   "execution_count": 14,
   "metadata": {
    "execution": {
     "iopub.execute_input": "2025-01-31T22:27:34.763212Z",
     "iopub.status.busy": "2025-01-31T22:27:34.762590Z",
     "iopub.status.idle": "2025-01-31T22:27:34.767108Z",
     "shell.execute_reply": "2025-01-31T22:27:34.766599Z",
     "shell.execute_reply.started": "2025-01-31T22:27:34.763188Z"
    }
   },
   "outputs": [
    {
     "data": {
      "text/plain": [
       "{'QueryTime': 'Fri Jan 31 22:23:19 2025',\n",
       " 'Copyright': '(C) 2025 California Institute of Technology',\n",
       " 'Version': '2.1',\n",
       " 'Supplied': 'IC 5371',\n",
       " 'NameResolver': 'NED-NNS',\n",
       " 'Interpreted': {'Name': 'IC 5371'},\n",
       " 'Preferred': {'Name': 'IC 5371',\n",
       "  'Position': {'RA': 0.0616522,\n",
       "   'Dec': 32.8319804,\n",
       "   'UncSemiMajor': 2.465277778e-05,\n",
       "   'UncSemiMinor': 2.395833333e-05,\n",
       "   'PosAngle': 90.0,\n",
       "   'RefCode': '2013wise.rept....1C'},\n",
       "  'ObjType': {'Value': 'G', 'RefCode': None},\n",
       "  'Redshift': {'Value': 0.0313000008,\n",
       "   'Uncertainty': 9.99999975e-05,\n",
       "   'RefCode': '1987Afz....26....5K',\n",
       "   'QualityFlag': 'SUN '}},\n",
       " 'StatusCode': 100,\n",
       " 'ResultCode': 3}"
      ]
     },
     "execution_count": 14,
     "metadata": {},
     "output_type": "execute_result"
    }
   ],
   "source": [
    "ned_object_basic_info"
   ]
  },
  {
   "cell_type": "code",
   "execution_count": 17,
   "metadata": {
    "execution": {
     "iopub.execute_input": "2025-01-31T22:28:13.228155Z",
     "iopub.status.busy": "2025-01-31T22:28:13.227444Z",
     "iopub.status.idle": "2025-01-31T22:28:13.231150Z",
     "shell.execute_reply": "2025-01-31T22:28:13.230643Z",
     "shell.execute_reply.started": "2025-01-31T22:28:13.228131Z"
    }
   },
   "outputs": [
    {
     "name": "stdout",
     "output_type": "stream",
     "text": [
      "{'Name': 'IC 5371', 'Position': {'RA': 0.0616522, 'Dec': 32.8319804, 'UncSemiMajor': 2.465277778e-05, 'UncSemiMinor': 2.395833333e-05, 'PosAngle': 90.0, 'RefCode': '2013wise.rept....1C'}, 'ObjType': {'Value': 'G', 'RefCode': None}, 'Redshift': {'Value': 0.0313000008, 'Uncertainty': 9.99999975e-05, 'RefCode': '1987Afz....26....5K', 'QualityFlag': 'SUN '}}\n"
     ]
    }
   ],
   "source": [
    "print(ned_object_basic_info.get('Preferred'))"
   ]
  },
  {
   "cell_type": "code",
   "execution_count": 18,
   "metadata": {
    "execution": {
     "iopub.execute_input": "2025-01-31T22:28:36.940887Z",
     "iopub.status.busy": "2025-01-31T22:28:36.940256Z",
     "iopub.status.idle": "2025-01-31T22:28:36.944743Z",
     "shell.execute_reply": "2025-01-31T22:28:36.943969Z",
     "shell.execute_reply.started": "2025-01-31T22:28:36.940859Z"
    }
   },
   "outputs": [
    {
     "name": "stdout",
     "output_type": "stream",
     "text": [
      "{'RA': 0.0616522, 'Dec': 32.8319804, 'UncSemiMajor': 2.465277778e-05, 'UncSemiMinor': 2.395833333e-05, 'PosAngle': 90.0, 'RefCode': '2013wise.rept....1C'}\n"
     ]
    }
   ],
   "source": [
    "print(ned_object_basic_info.get('Preferred').get('Position'))"
   ]
  },
  {
   "cell_type": "code",
   "execution_count": 21,
   "metadata": {
    "execution": {
     "iopub.execute_input": "2025-01-31T22:29:21.645378Z",
     "iopub.status.busy": "2025-01-31T22:29:21.644652Z",
     "iopub.status.idle": "2025-01-31T22:29:21.648565Z",
     "shell.execute_reply": "2025-01-31T22:29:21.647983Z",
     "shell.execute_reply.started": "2025-01-31T22:29:21.645344Z"
    }
   },
   "outputs": [
    {
     "name": "stdout",
     "output_type": "stream",
     "text": [
      "2.465277778e-05\n"
     ]
    }
   ],
   "source": [
    "print(ned_object_basic_info.get('Preferred').get('Position').get('UncSemiMajor'))"
   ]
  },
  {
   "cell_type": "code",
   "execution_count": 22,
   "metadata": {
    "execution": {
     "iopub.execute_input": "2025-01-31T22:29:21.986632Z",
     "iopub.status.busy": "2025-01-31T22:29:21.986340Z",
     "iopub.status.idle": "2025-01-31T22:29:21.990636Z",
     "shell.execute_reply": "2025-01-31T22:29:21.989943Z",
     "shell.execute_reply.started": "2025-01-31T22:29:21.986613Z"
    }
   },
   "outputs": [
    {
     "name": "stdout",
     "output_type": "stream",
     "text": [
      "2.395833333e-05\n"
     ]
    }
   ],
   "source": [
    "print(ned_object_basic_info.get('Preferred').get('Position').get('UncSemiMinor'))"
   ]
  },
  {
   "cell_type": "code",
   "execution_count": 23,
   "metadata": {
    "execution": {
     "iopub.execute_input": "2025-01-31T22:29:22.284492Z",
     "iopub.status.busy": "2025-01-31T22:29:22.283927Z",
     "iopub.status.idle": "2025-01-31T22:29:22.287829Z",
     "shell.execute_reply": "2025-01-31T22:29:22.287213Z",
     "shell.execute_reply.started": "2025-01-31T22:29:22.284466Z"
    }
   },
   "outputs": [
    {
     "name": "stdout",
     "output_type": "stream",
     "text": [
      "90.0\n"
     ]
    }
   ],
   "source": [
    "print(ned_object_basic_info.get('Preferred').get('Position').get('PosAngle'))"
   ]
  },
  {
   "cell_type": "markdown",
   "metadata": {},
   "source": [
    "### try with astroquery"
   ]
  },
  {
   "cell_type": "code",
   "execution_count": 25,
   "metadata": {
    "execution": {
     "iopub.execute_input": "2025-01-31T23:25:27.896033Z",
     "iopub.status.busy": "2025-01-31T23:25:27.895688Z",
     "iopub.status.idle": "2025-01-31T23:25:28.740670Z",
     "shell.execute_reply": "2025-01-31T23:25:28.739987Z",
     "shell.execute_reply.started": "2025-01-31T23:25:27.896007Z"
    }
   },
   "outputs": [
    {
     "name": "stdout",
     "output_type": "stream",
     "text": [
      "No. Object Name     RA     ... Redshift Points Diameter Points Associations\n",
      "                 degrees   ...                                             \n",
      "--- ----------- ---------- ... --------------- --------------- ------------\n",
      "  1 MESSIER 031    10.6848 ...              48              13            2\n"
     ]
    }
   ],
   "source": [
    "from astroquery.ipac.ned import Ned\n",
    "result_table = Ned.query_object(\"NGC 224\")\n",
    "print(result_table) # an astropy.table.Table"
   ]
  },
  {
   "cell_type": "code",
   "execution_count": 26,
   "metadata": {
    "execution": {
     "iopub.execute_input": "2025-01-31T23:25:47.682292Z",
     "iopub.status.busy": "2025-01-31T23:25:47.681998Z",
     "iopub.status.idle": "2025-01-31T23:25:48.740566Z",
     "shell.execute_reply": "2025-01-31T23:25:48.739857Z",
     "shell.execute_reply.started": "2025-01-31T23:25:47.682269Z"
    }
   },
   "outputs": [
    {
     "name": "stdout",
     "output_type": "stream",
     "text": [
      "No. Object Name     RA     ... Redshift Points Diameter Points Associations\n",
      "                 degrees   ...                                             \n",
      "--- ----------- ---------- ... --------------- --------------- ------------\n",
      "  1     IC 5371    0.06165 ...               3               2            0\n"
     ]
    }
   ],
   "source": [
    "result_table = Ned.query_object(\"IC 5371\")\n",
    "print(result_table)"
   ]
  },
  {
   "cell_type": "code",
   "execution_count": 28,
   "metadata": {
    "execution": {
     "iopub.execute_input": "2025-01-31T23:26:04.392807Z",
     "iopub.status.busy": "2025-01-31T23:26:04.392544Z",
     "iopub.status.idle": "2025-01-31T23:26:04.399768Z",
     "shell.execute_reply": "2025-01-31T23:26:04.399163Z",
     "shell.execute_reply.started": "2025-01-31T23:26:04.392786Z"
    }
   },
   "outputs": [
    {
     "data": {
      "text/html": [
       "<div><i>Table length=1</i>\n",
       "<table id=\"table140318674591504\" class=\"table-striped table-bordered table-condensed\">\n",
       "<thead><tr><th>No.</th><th>Object Name</th><th>RA</th><th>DEC</th><th>Type</th><th>Velocity</th><th>Redshift</th><th>Redshift Flag</th><th>Magnitude and Filter</th><th>Separation</th><th>References</th><th>Notes</th><th>Photometry Points</th><th>Positions</th><th>Redshift Points</th><th>Diameter Points</th><th>Associations</th></tr></thead>\n",
       "<thead><tr><th></th><th></th><th>degrees</th><th>degrees</th><th></th><th>km / s</th><th></th><th></th><th></th><th>arcmin</th><th></th><th></th><th></th><th></th><th></th><th></th><th></th></tr></thead>\n",
       "<thead><tr><th>int32</th><th>str30</th><th>float64</th><th>float64</th><th>object</th><th>float64</th><th>float64</th><th>object</th><th>object</th><th>float64</th><th>int32</th><th>int32</th><th>int32</th><th>int32</th><th>int32</th><th>int32</th><th>int32</th></tr></thead>\n",
       "<tr><td>1</td><td>IC 5371</td><td>0.06165</td><td>32.83198</td><td>G</td><td>9384.0</td><td>0.0313</td><td>SUN</td><td>15.7</td><td>--</td><td>15</td><td>0</td><td>28</td><td>8</td><td>3</td><td>2</td><td>0</td></tr>\n",
       "</table></div>"
      ],
      "text/plain": [
       "<Table length=1>\n",
       " No.  Object Name     RA     ... Redshift Points Diameter Points Associations\n",
       "                   degrees   ...                                             \n",
       "int32    str30     float64   ...      int32           int32         int32    \n",
       "----- ----------- ---------- ... --------------- --------------- ------------\n",
       "    1     IC 5371    0.06165 ...               3               2            0"
      ]
     },
     "execution_count": 28,
     "metadata": {},
     "output_type": "execute_result"
    }
   ],
   "source": [
    "result_table"
   ]
  },
  {
   "cell_type": "code",
   "execution_count": 52,
   "metadata": {
    "execution": {
     "iopub.execute_input": "2025-01-31T23:59:41.566821Z",
     "iopub.status.busy": "2025-01-31T23:59:41.566271Z",
     "iopub.status.idle": "2025-01-31T23:59:41.569475Z",
     "shell.execute_reply": "2025-01-31T23:59:41.568947Z",
     "shell.execute_reply.started": "2025-01-31T23:59:41.566798Z"
    }
   },
   "outputs": [],
   "source": [
    "# result_table = Ned.get_table(\"NGC 224\", table='positions')\n",
    "# result_table = Ned.get_table(\"IC 5371\", table='positions')\n",
    "# result_table = Ned.get_table(\"IC 5377\", table='positions')\n",
    "# result_table"
   ]
  },
  {
   "cell_type": "code",
   "execution_count": 55,
   "metadata": {
    "execution": {
     "iopub.execute_input": "2025-02-01T00:27:21.716172Z",
     "iopub.status.busy": "2025-02-01T00:27:21.715873Z",
     "iopub.status.idle": "2025-02-01T00:27:21.748162Z",
     "shell.execute_reply": "2025-02-01T00:27:21.747608Z",
     "shell.execute_reply.started": "2025-02-01T00:27:21.716152Z"
    }
   },
   "outputs": [
    {
     "data": {
      "text/html": [
       "<div><i>Table length=5</i>\n",
       "<table id=\"table140318453122384\" class=\"table-striped table-bordered table-condensed\">\n",
       "<thead><tr><th>No.</th><th>Frequency targeted</th><th>Refcode</th><th>Major Axis</th><th>Major Axis Flag</th><th>Major Axis Unit</th><th>Minor Axis</th><th>Minor Axis Flag</th><th>Minor Axis Unit</th><th>Axis Ratio</th><th>Axis Ratio Flag</th><th>Major Axis Uncertainty</th><th>Ellipticity</th><th>Eccentricity</th><th>Position Angle</th><th>Equinox</th><th>Reference Level</th><th>NED Frequency</th><th>NED Major Axis</th><th>NED Major Axis Uncertainty</th><th>NED Axis Ratio</th><th>NED Ellipticity</th><th>NED Eccentricity</th><th>NED cos-1_axis_ratio</th><th>NED Position Angle</th><th>NED Minor Axis</th><th>Minor Axis Uncertainty</th><th>NED Minor Axis Uncertainty</th><th>Axis Ratio Uncertainty</th><th>NED Axis Ratio Uncertainty</th><th>Ellipticity Uncertainty</th><th>NED Ellipticity Uncertainty</th><th>Eccentricity Uncertainty</th><th>NED Eccentricity Uncertainty</th><th>Position Angle Uncertainty</th><th>NED Position Angle Uncertainty</th><th>Significance</th><th>Frequency</th><th>Frequency Unit</th><th>Frequency Mode</th><th>Detector Type</th><th>Fitting Technique</th><th>Features</th><th>Measured Quantity</th><th>Measurement Qualifiers</th><th>Targeted RA</th><th>Targeted DEC</th><th>Targeted Equinox</th><th>NED Qualifiers</th><th>NED Comment</th></tr></thead>\n",
       "<thead><tr><th></th><th></th><th></th><th></th><th></th><th></th><th></th><th></th><th></th><th></th><th></th><th></th><th></th><th></th><th>deg</th><th></th><th></th><th>Hz</th><th>arcsec</th><th>arcsec</th><th></th><th></th><th></th><th></th><th>deg</th><th>arcsec</th><th></th><th>arcsec</th><th></th><th></th><th></th><th></th><th></th><th></th><th></th><th>deg</th><th></th><th></th><th></th><th></th><th></th><th></th><th></th><th></th><th></th><th></th><th></th><th></th><th></th><th></th></tr></thead>\n",
       "<thead><tr><th>int32</th><th>object</th><th>object</th><th>float64</th><th>object</th><th>object</th><th>float64</th><th>object</th><th>object</th><th>float64</th><th>object</th><th>float64</th><th>float64</th><th>float64</th><th>float64</th><th>object</th><th>object</th><th>float64</th><th>float64</th><th>float64</th><th>float64</th><th>float64</th><th>float64</th><th>float64</th><th>float64</th><th>float64</th><th>float64</th><th>float64</th><th>float64</th><th>float64</th><th>float64</th><th>float64</th><th>float64</th><th>float64</th><th>float64</th><th>float64</th><th>object</th><th>float64</th><th>object</th><th>object</th><th>object</th><th>object</th><th>object</th><th>object</th><th>object</th><th>object</th><th>object</th><th>object</th><th>object</th><th>object</th></tr></thead>\n",
       "<tr><td>1</td><td>POSS1 103a-O</td><td>1973UGC...C...0000N</td><td>1.3</td><td></td><td>arcmin</td><td>0.7</td><td></td><td>arcmin</td><td>--</td><td></td><td>--</td><td>--</td><td>--</td><td>--</td><td></td><td>About 25.0 B-mag arcsec^-2^</td><td>740000000000000.0</td><td>78.0</td><td>--</td><td>0.54</td><td>0.462</td><td>0.551056</td><td>57.0</td><td>--</td><td>42.0</td><td>--</td><td>--</td><td>--</td><td>--</td><td>--</td><td>--</td><td>--</td><td>--</td><td>--</td><td>--</td><td>No uncertainty reported</td><td>4050.0</td><td>A</td><td>Broad-band detector (e.g. photographic plate)</td><td>Photographic plate, print, or film</td><td>Eye estimate</td><td></td><td>&quot;Outer&quot; diameter</td><td></td><td>235930.</td><td>+161900.</td><td>B1950</td><td>From new, raw data</td><td></td></tr>\n",
       "<tr><td>2</td><td>POSS1 103a-O</td><td>1964MCG2..C...0000V</td><td>0.3</td><td></td><td>arcmin</td><td>0.2</td><td></td><td>arcmin</td><td>--</td><td></td><td>--</td><td>--</td><td>--</td><td>--</td><td></td><td>Intermed. surface brightness</td><td>740000000000000.0</td><td>18.0</td><td>--</td><td>0.67</td><td>0.333</td><td>0.384189</td><td>48.0</td><td>--</td><td>12.0</td><td>--</td><td>--</td><td>--</td><td>--</td><td>--</td><td>--</td><td>--</td><td>--</td><td>--</td><td>--</td><td>No uncertainty reported</td><td>4050.0</td><td>A</td><td>Broad-band detector (e.g. photographic plate)</td><td>Photographic plate, print, or film</td><td>Eye estimate</td><td></td><td>&quot;Inner&quot; diameter</td><td></td><td>235930</td><td>+1618</td><td>B1950</td><td>From new, raw data</td><td></td></tr>\n",
       "<tr><td>3</td><td>POSS1 103a-O</td><td>1964MCG2..C...0000V</td><td>0.7</td><td></td><td>arcmin</td><td>0.4</td><td></td><td>arcmin</td><td>--</td><td></td><td>--</td><td>--</td><td>--</td><td>--</td><td></td><td>Very low surface brightness</td><td>740000000000000.0</td><td>42.0</td><td>--</td><td>0.57</td><td>0.429</td><td>0.508249</td><td>55.0</td><td>--</td><td>24.0</td><td>--</td><td>--</td><td>--</td><td>--</td><td>--</td><td>--</td><td>--</td><td>--</td><td>--</td><td>--</td><td>No uncertainty reported</td><td>4050.0</td><td>A</td><td>Broad-band detector (e.g. photographic plate)</td><td>Photographic plate, print, or film</td><td>Eye estimate</td><td></td><td>&quot;Outer&quot; diameter</td><td></td><td>235930</td><td>+1618</td><td>B1950</td><td>From new, raw data</td><td></td></tr>\n",
       "<tr><td>4</td><td>RC3 D_25, R_25 (blue)</td><td>1991RC3.9.C...0000d</td><td>1.02</td><td></td><td>log(2a) + 1</td><td>--</td><td></td><td></td><td>0.25</td><td>log(a/b)</td><td>0.06</td><td>--</td><td>--</td><td>--</td><td></td><td>25.0 B-mag arcsec^-2^</td><td>681000000000000.0</td><td>62.8</td><td>9.3</td><td>0.56</td><td>0.438</td><td>0.519937</td><td>56.0</td><td>--</td><td>35.29</td><td>--</td><td>--</td><td>0.05</td><td>0.07</td><td>--</td><td>--</td><td>--</td><td>--</td><td>--</td><td>--</td><td>Mean error</td><td>4400.0</td><td>A</td><td>Broad-band detector (e.g. photographic plate)</td><td>Photographic plate, print, or film</td><td>Eye estimate</td><td></td><td>Isophotal diameter</td><td></td><td>000200.0</td><td>+163500.</td><td>J2000</td><td>Homogenized from previously published data</td><td></td></tr>\n",
       "<tr><td>5</td><td>RC3 D_0 (blue)</td><td>1991RC3.9.C...0000d</td><td>1.02</td><td></td><td>log(2a) + 1</td><td>--</td><td></td><td></td><td>--</td><td></td><td>--</td><td>--</td><td>--</td><td>--</td><td></td><td>25.0 B-mag arcsec^-2^</td><td>681000000000000.0</td><td>62.8</td><td>--</td><td>--</td><td>--</td><td>--</td><td>--</td><td>--</td><td>--</td><td>--</td><td>--</td><td>--</td><td>--</td><td>--</td><td>--</td><td>--</td><td>--</td><td>--</td><td>--</td><td>No uncertainty reported</td><td>4400.0</td><td>A</td><td>Broad-band detector (e.g. photographic plate)</td><td>Photographic plate, print, or film</td><td>Eye estimate</td><td></td><td>Isophotal diameter</td><td></td><td>000200.0</td><td>+163500.</td><td>J2000</td><td>Homogenized from previously published data</td><td>Extinction and inclination corrected.</td></tr>\n",
       "</table></div>"
      ],
      "text/plain": [
       "<Table length=5>\n",
       " No.    Frequency targeted  ...              NED Comment             \n",
       "                            ...                                      \n",
       "int32         object        ...                 object               \n",
       "----- --------------------- ... -------------------------------------\n",
       "    1          POSS1 103a-O ...                                      \n",
       "    2          POSS1 103a-O ...                                      \n",
       "    3          POSS1 103a-O ...                                      \n",
       "    4 RC3 D_25, R_25 (blue) ...                                      \n",
       "    5        RC3 D_0 (blue) ... Extinction and inclination corrected."
      ]
     },
     "execution_count": 55,
     "metadata": {},
     "output_type": "execute_result"
    }
   ],
   "source": [
    "# result_table = Ned.get_table(\"NGC 224\", table='diameters')\n",
    "# result_table = Ned.get_table(\"IC 5371\", table='diameters')\n",
    "result_table = Ned.get_table(\"IC 5377\", table='diameters')\n",
    "# result_table = Ned.get_table(\"NGC 7807\", table='diameters')\n",
    "result_table"
   ]
  },
  {
   "cell_type": "code",
   "execution_count": 39,
   "metadata": {
    "execution": {
     "iopub.execute_input": "2025-01-31T23:51:56.370851Z",
     "iopub.status.busy": "2025-01-31T23:51:56.370368Z",
     "iopub.status.idle": "2025-01-31T23:51:56.374942Z",
     "shell.execute_reply": "2025-01-31T23:51:56.374392Z",
     "shell.execute_reply.started": "2025-01-31T23:51:56.370830Z"
    }
   },
   "outputs": [
    {
     "data": {
      "text/plain": [
       "['No.',\n",
       " 'Frequency targeted',\n",
       " 'Refcode',\n",
       " 'Major Axis',\n",
       " 'Major Axis Flag',\n",
       " 'Major Axis Unit',\n",
       " 'Minor Axis',\n",
       " 'Minor Axis Flag',\n",
       " 'Minor Axis Unit',\n",
       " 'Axis Ratio',\n",
       " 'Axis Ratio Flag',\n",
       " 'Major Axis Uncertainty',\n",
       " 'Ellipticity',\n",
       " 'Eccentricity',\n",
       " 'Position Angle',\n",
       " 'Equinox',\n",
       " 'Reference Level',\n",
       " 'NED Frequency',\n",
       " 'NED Major Axis',\n",
       " 'NED Major Axis Uncertainty',\n",
       " 'NED Axis Ratio',\n",
       " 'NED Ellipticity',\n",
       " 'NED Eccentricity',\n",
       " 'NED cos-1_axis_ratio',\n",
       " 'NED Position Angle',\n",
       " 'NED Minor Axis',\n",
       " 'Minor Axis Uncertainty',\n",
       " 'NED Minor Axis Uncertainty',\n",
       " 'Axis Ratio Uncertainty',\n",
       " 'NED Axis Ratio Uncertainty',\n",
       " 'Ellipticity Uncertainty',\n",
       " 'NED Ellipticity Uncertainty',\n",
       " 'Eccentricity Uncertainty',\n",
       " 'NED Eccentricity Uncertainty',\n",
       " 'Position Angle Uncertainty',\n",
       " 'NED Position Angle Uncertainty',\n",
       " 'Significance',\n",
       " 'Frequency',\n",
       " 'Frequency Unit',\n",
       " 'Frequency Mode',\n",
       " 'Detector Type',\n",
       " 'Fitting Technique',\n",
       " 'Features',\n",
       " 'Measured Quantity',\n",
       " 'Measurement Qualifiers',\n",
       " 'Targeted RA',\n",
       " 'Targeted DEC',\n",
       " 'Targeted Equinox',\n",
       " 'NED Qualifiers',\n",
       " 'NED Comment']"
      ]
     },
     "execution_count": 39,
     "metadata": {},
     "output_type": "execute_result"
    }
   ],
   "source": [
    "result_table.colnames"
   ]
  },
  {
   "cell_type": "code",
   "execution_count": 40,
   "metadata": {
    "execution": {
     "iopub.execute_input": "2025-01-31T23:51:58.089218Z",
     "iopub.status.busy": "2025-01-31T23:51:58.088957Z",
     "iopub.status.idle": "2025-01-31T23:51:58.094488Z",
     "shell.execute_reply": "2025-01-31T23:51:58.093917Z",
     "shell.execute_reply.started": "2025-01-31T23:51:58.089198Z"
    }
   },
   "outputs": [
    {
     "data": {
      "text/html": [
       "&lt;MaskedColumn name=&apos;NED Major Axis&apos; dtype=&apos;float64&apos; unit=&apos;arcsec&apos; description=&apos;The major axis, translated as needed in arcseconds.&apos; length=14&gt;\n",
       "<table>\n",
       "<tr><td>27.8</td></tr>\n",
       "<tr><td>48.9</td></tr>\n",
       "<tr><td>66.0</td></tr>\n",
       "<tr><td>37.58</td></tr>\n",
       "<tr><td>44.16</td></tr>\n",
       "<tr><td>50.7</td></tr>\n",
       "<tr><td>23.44</td></tr>\n",
       "<tr><td>27.86</td></tr>\n",
       "<tr><td>34.67</td></tr>\n",
       "<tr><td>17.38</td></tr>\n",
       "<tr><td>15.85</td></tr>\n",
       "<tr><td>5.59</td></tr>\n",
       "<tr><td>8.41</td></tr>\n",
       "<tr><td>3.69</td></tr>\n",
       "</table>"
      ],
      "text/plain": [
       "<MaskedColumn name='NED Major Axis' dtype='float64' unit='arcsec' description='The major axis, translated as needed in arcseconds.' length=14>\n",
       " 27.8\n",
       " 48.9\n",
       " 66.0\n",
       "37.58\n",
       "44.16\n",
       " 50.7\n",
       "23.44\n",
       "27.86\n",
       "34.67\n",
       "17.38\n",
       "15.85\n",
       " 5.59\n",
       " 8.41\n",
       " 3.69"
      ]
     },
     "execution_count": 40,
     "metadata": {},
     "output_type": "execute_result"
    }
   ],
   "source": [
    "result_table['NED Major Axis']"
   ]
  },
  {
   "cell_type": "code",
   "execution_count": 41,
   "metadata": {
    "execution": {
     "iopub.execute_input": "2025-01-31T23:51:59.128971Z",
     "iopub.status.busy": "2025-01-31T23:51:59.128302Z",
     "iopub.status.idle": "2025-01-31T23:51:59.133456Z",
     "shell.execute_reply": "2025-01-31T23:51:59.132899Z",
     "shell.execute_reply.started": "2025-01-31T23:51:59.128947Z"
    }
   },
   "outputs": [
    {
     "data": {
      "text/html": [
       "&lt;MaskedColumn name=&apos;NED Position Angle&apos; dtype=&apos;float64&apos; unit=&apos;deg&apos; description=&apos;The position angle, translated as needed to degrees for equinox J2000.&apos; length=14&gt;\n",
       "<table>\n",
       "<tr><td>65.0</td></tr>\n",
       "<tr><td>65.0</td></tr>\n",
       "<tr><td>--</td></tr>\n",
       "<tr><td>76.0</td></tr>\n",
       "<tr><td>76.0</td></tr>\n",
       "<tr><td>76.0</td></tr>\n",
       "<tr><td>76.0</td></tr>\n",
       "<tr><td>76.0</td></tr>\n",
       "<tr><td>76.0</td></tr>\n",
       "<tr><td>76.0</td></tr>\n",
       "<tr><td>--</td></tr>\n",
       "<tr><td>--</td></tr>\n",
       "<tr><td>76.0</td></tr>\n",
       "<tr><td>--</td></tr>\n",
       "</table>"
      ],
      "text/plain": [
       "<MaskedColumn name='NED Position Angle' dtype='float64' unit='deg' description='The position angle, translated as needed to degrees for equinox J2000.' length=14>\n",
       "65.0\n",
       "65.0\n",
       "  --\n",
       "76.0\n",
       "76.0\n",
       "76.0\n",
       "76.0\n",
       "76.0\n",
       "76.0\n",
       "76.0\n",
       "  --\n",
       "  --\n",
       "76.0\n",
       "  --"
      ]
     },
     "execution_count": 41,
     "metadata": {},
     "output_type": "execute_result"
    }
   ],
   "source": [
    "result_table['NED Position Angle']"
   ]
  },
  {
   "cell_type": "code",
   "execution_count": 42,
   "metadata": {
    "execution": {
     "iopub.execute_input": "2025-01-31T23:52:00.899865Z",
     "iopub.status.busy": "2025-01-31T23:52:00.899183Z",
     "iopub.status.idle": "2025-01-31T23:52:00.902968Z",
     "shell.execute_reply": "2025-01-31T23:52:00.902395Z",
     "shell.execute_reply.started": "2025-01-31T23:52:00.899840Z"
    }
   },
   "outputs": [
    {
     "name": "stdout",
     "output_type": "stream",
     "text": [
      "14\n"
     ]
    }
   ],
   "source": [
    "print(len(result_table))"
   ]
  },
  {
   "cell_type": "code",
   "execution_count": 43,
   "metadata": {
    "execution": {
     "iopub.execute_input": "2025-01-31T23:52:12.508948Z",
     "iopub.status.busy": "2025-01-31T23:52:12.508191Z",
     "iopub.status.idle": "2025-01-31T23:52:12.513861Z",
     "shell.execute_reply": "2025-01-31T23:52:12.513233Z",
     "shell.execute_reply.started": "2025-01-31T23:52:12.508920Z"
    }
   },
   "outputs": [
    {
     "data": {
      "text/html": [
       "&lt;MaskedColumn name=&apos;Frequency targeted&apos; dtype=&apos;object&apos; description=&apos;The frequency or wavelength at which the data apply (in common astronomical jargon, e.g. &quot;V&quot; for the Johnson Vband, &quot;IRAS 12 microns&quot; for the IRAS 12 micron band, etc.)&apos; length=14&gt;\n",
       "<table>\n",
       "<tr><td>K_s (2MASS isophotal)</td></tr>\n",
       "<tr><td>K_s (2MASS &quot;total&quot;)</td></tr>\n",
       "<tr><td>ESO-Uppsala &quot;Quick Blue&quot; IIa-O</td></tr>\n",
       "<tr><td>ESO-LV &quot;Quick Blue&quot; IIa-O</td></tr>\n",
       "<tr><td>ESO-LV &quot;Quick Blue&quot; IIa-O</td></tr>\n",
       "<tr><td>ESO-LV &quot;Quick Blue&quot; IIa-O</td></tr>\n",
       "<tr><td>ESO-LV &quot;Quick Blue&quot; IIa-O</td></tr>\n",
       "<tr><td>ESO-LV &quot;Quick Blue&quot; IIa-O</td></tr>\n",
       "<tr><td>ESO-LV &quot;Quick Blue&quot; IIa-O</td></tr>\n",
       "<tr><td>ESO-LV &quot;Quick Blue&quot; IIa-O</td></tr>\n",
       "<tr><td>ESO-LV &quot;Quick Blue&quot; IIa-O</td></tr>\n",
       "<tr><td>ESO-LV &quot;Quick Blue&quot; IIa-O</td></tr>\n",
       "<tr><td>ESO-LV &quot;Quick Blue&quot; IIa-O</td></tr>\n",
       "<tr><td>ESO-LV IIIa-F</td></tr>\n",
       "</table>"
      ],
      "text/plain": [
       "<MaskedColumn name='Frequency targeted' dtype='object' description='The frequency or wavelength at which the data apply (in common astronomical jargon, e.g. \"V\" for the Johnson Vband, \"IRAS 12 microns\" for the IRAS 12 micron band, etc.)' length=14>\n",
       "         K_s (2MASS isophotal)\n",
       "           K_s (2MASS \"total\")\n",
       "ESO-Uppsala \"Quick Blue\" IIa-O\n",
       "     ESO-LV \"Quick Blue\" IIa-O\n",
       "     ESO-LV \"Quick Blue\" IIa-O\n",
       "     ESO-LV \"Quick Blue\" IIa-O\n",
       "     ESO-LV \"Quick Blue\" IIa-O\n",
       "     ESO-LV \"Quick Blue\" IIa-O\n",
       "     ESO-LV \"Quick Blue\" IIa-O\n",
       "     ESO-LV \"Quick Blue\" IIa-O\n",
       "     ESO-LV \"Quick Blue\" IIa-O\n",
       "     ESO-LV \"Quick Blue\" IIa-O\n",
       "     ESO-LV \"Quick Blue\" IIa-O\n",
       "                 ESO-LV IIIa-F"
      ]
     },
     "execution_count": 43,
     "metadata": {},
     "output_type": "execute_result"
    }
   ],
   "source": [
    "result_table['Frequency targeted']"
   ]
  },
  {
   "cell_type": "code",
   "execution_count": 47,
   "metadata": {
    "execution": {
     "iopub.execute_input": "2025-01-31T23:53:05.971275Z",
     "iopub.status.busy": "2025-01-31T23:53:05.970692Z",
     "iopub.status.idle": "2025-01-31T23:53:05.974376Z",
     "shell.execute_reply": "2025-01-31T23:53:05.973726Z",
     "shell.execute_reply.started": "2025-01-31T23:53:05.971250Z"
    }
   },
   "outputs": [],
   "source": [
    "temp = np.asarray(result_table['Frequency targeted'], dtype='str')"
   ]
  },
  {
   "cell_type": "code",
   "execution_count": 48,
   "metadata": {
    "execution": {
     "iopub.execute_input": "2025-01-31T23:53:56.295992Z",
     "iopub.status.busy": "2025-01-31T23:53:56.295240Z",
     "iopub.status.idle": "2025-01-31T23:53:56.299457Z",
     "shell.execute_reply": "2025-01-31T23:53:56.298844Z",
     "shell.execute_reply.started": "2025-01-31T23:53:56.295966Z"
    }
   },
   "outputs": [
    {
     "name": "stdout",
     "output_type": "stream",
     "text": [
      "['K_s (2MASS isophotal)' 'K_s (2MASS \"total\")'\n",
      " 'ESO-Uppsala \"Quick Blue\" IIa-O' 'ESO-LV \"Quick Blue\" IIa-O'\n",
      " 'ESO-LV \"Quick Blue\" IIa-O' 'ESO-LV \"Quick Blue\" IIa-O'\n",
      " 'ESO-LV \"Quick Blue\" IIa-O' 'ESO-LV \"Quick Blue\" IIa-O'\n",
      " 'ESO-LV \"Quick Blue\" IIa-O' 'ESO-LV \"Quick Blue\" IIa-O'\n",
      " 'ESO-LV \"Quick Blue\" IIa-O' 'ESO-LV \"Quick Blue\" IIa-O'\n",
      " 'ESO-LV \"Quick Blue\" IIa-O' 'ESO-LV IIIa-F']\n"
     ]
    }
   ],
   "source": [
    "print(temp)"
   ]
  },
  {
   "cell_type": "code",
   "execution_count": 49,
   "metadata": {
    "execution": {
     "iopub.execute_input": "2025-01-31T23:54:20.174259Z",
     "iopub.status.busy": "2025-01-31T23:54:20.173605Z",
     "iopub.status.idle": "2025-01-31T23:54:20.177600Z",
     "shell.execute_reply": "2025-01-31T23:54:20.176984Z",
     "shell.execute_reply.started": "2025-01-31T23:54:20.174235Z"
    }
   },
   "outputs": [
    {
     "name": "stdout",
     "output_type": "stream",
     "text": [
      "K_s (2MASS isophotal)\n"
     ]
    }
   ],
   "source": [
    "for tmp in temp:\n",
    "    if tmp.find('isophotal') > -1:\n",
    "        print(tmp)"
   ]
  },
  {
   "cell_type": "code",
   "execution_count": null,
   "metadata": {},
   "outputs": [],
   "source": []
  },
  {
   "cell_type": "code",
   "execution_count": null,
   "metadata": {},
   "outputs": [],
   "source": []
  },
  {
   "cell_type": "code",
   "execution_count": null,
   "metadata": {},
   "outputs": [],
   "source": []
  },
  {
   "cell_type": "code",
   "execution_count": null,
   "metadata": {},
   "outputs": [],
   "source": []
  },
  {
   "cell_type": "code",
   "execution_count": null,
   "metadata": {},
   "outputs": [],
   "source": []
  },
  {
   "cell_type": "code",
   "execution_count": null,
   "metadata": {},
   "outputs": [],
   "source": []
  },
  {
   "cell_type": "markdown",
   "metadata": {},
   "source": [
    "<a id='TAP_cone'></a>"
   ]
  },
  {
   "cell_type": "markdown",
   "metadata": {},
   "source": [
    "## (2) TAP - Cone Search"
   ]
  },
  {
   "cell_type": "code",
   "execution_count": null,
   "metadata": {},
   "outputs": [],
   "source": [
    "# Using NED TAP service with previously retrieved NED object position to perform 0.2 arcmin cone search\n",
    "# Documentation: https://ned.ipac.caltech.edu/tap/\n",
    "\n",
    "ned_tab     = 'https://ned.ipac.caltech.edu/tap'\n",
    "table_name  = 'ned_objdir'\n",
    "columns     = 'prefname,ra,dec,z,zflag'\n",
    "coord_sys   = 'J2000'\n",
    "coord_ra    = 299.8681525   # From previous example - ned_object_basic_info['Preferred']['Position']['RA']   \n",
    "coord_dec   =  40.73391556  # From previous example - ned_object_basic_info['Preferred']['Position']['Dec']\n",
    "sr_deg      = 0.2 / 60              # 0.2 arcmin search radius\n",
    "cone        = 'CONTAINS(POINT(\\'' + str(coord_sys) + '\\', ra, dec),CIRCLE(\\'' + str(coord_sys) + '\\',' + str(coord_ra) + ',' + str(coord_dec) + ',' + str(sr_deg) + ' ))=1'\n",
    "query       = 'SELECT ' + columns + ' FROM ' + table_name + ' WHERE ' + cone\n",
    "\n",
    "# Using astroquery\n",
    "\n",
    "from astroquery.utils.tap.core import TapPlus\n",
    "ned = TapPlus(url=ned_tab)\n",
    "job = ned.launch_job_async(query)\n",
    "out = job.get_results()\n",
    "out.pprint()\n",
    "\n",
    "# Using PyVO\n",
    "\n",
    "import pyvo as vo\n",
    "ned_TAP = vo.dal.TAPService(ned_tab)\n",
    "ned_out = ned_TAP.search(query)\n",
    "ned_out.table"
   ]
  },
  {
   "cell_type": "markdown",
   "metadata": {},
   "source": [
    "<a id='TAP_poly'></a>"
   ]
  },
  {
   "cell_type": "markdown",
   "metadata": {},
   "source": [
    "## (3) TAP - Polygon Search"
   ]
  },
  {
   "cell_type": "code",
   "execution_count": null,
   "metadata": {},
   "outputs": [],
   "source": [
    "# Using NED TAP service to perform polygon search for object count arount M51\n",
    "# Documentation: https://ned.ipac.caltech.edu/tap/\n",
    "\n",
    "ned_tab     = 'https://ned.ipac.caltech.edu/tap'\n",
    "table_name  = 'ned_objdir'\n",
    "columns     = 'count(*)'\n",
    "coord_sys   = 'J2000'\n",
    "polygon     = 'CONTAINS(POINT(\\'' + str(coord_sys) + '\\',ra,dec),POLYGON(\\'' + str(coord_sys) + '\\',202.333,47.033,202.667,47.033,202.667,47.367,202.333,47.367))=1'\n",
    "query       = 'SELECT ' + columns + ' FROM ' + table_name + ' WHERE ' + polygon\n",
    "\n",
    "# Using astroquery\n",
    "\n",
    "from astroquery.utils.tap.core import TapPlus\n",
    "ned = TapPlus(url=ned_tab)\n",
    "job = ned.launch_job_async(query)\n",
    "out = job.get_results()\n",
    "out.pprint()\n",
    "\n",
    "# Using PyVO\n",
    "\n",
    "import pyvo as vo\n",
    "ned_TAP = vo.dal.TAPService(ned_tab)\n",
    "ned_out = ned_TAP.search(query)\n",
    "ned_out.table"
   ]
  },
  {
   "cell_type": "markdown",
   "metadata": {},
   "source": [
    "<a id='TAP_poly_z'></a>"
   ]
  },
  {
   "cell_type": "markdown",
   "metadata": {},
   "source": [
    "## (4) TAP - Polygon Search with redshift constraint"
   ]
  },
  {
   "cell_type": "code",
   "execution_count": null,
   "metadata": {},
   "outputs": [],
   "source": [
    "# Using NED TAP service to perform polygon search for object count arount M51 for objects within |dcz| = 500 km/s\n",
    "# Documentation: https://ned.ipac.caltech.edu/tap/\n",
    "\n",
    "ned_tab     = 'https://ned.ipac.caltech.edu/tap'\n",
    "table_name  = 'ned_objdir'\n",
    "columns     = 'count(*)'\n",
    "coord_sys   = 'J2000'\n",
    "polygon     = 'CONTAINS(POINT(\\'' + str(coord_sys) + '\\',ra,dec),POLYGON(\\'' + str(coord_sys) + '\\',202.333,47.033,202.667,47.033,202.667,47.367,202.333,47.367))=1'\n",
    "z_range     = 'z BETWEEN 0.000333 AND 0.003667'\n",
    "query       = 'SELECT ' + columns + ' FROM ' + table_name + ' WHERE ' + polygon + ' AND ' + z_range\n",
    "\n",
    "# Using astroquery\n",
    "\n",
    "from astroquery.utils.tap.core import TapPlus\n",
    "ned = TapPlus(url=ned_tab)\n",
    "job = ned.launch_job_async(query)\n",
    "out = job.get_results()\n",
    "out.pprint()\n",
    "\n",
    "# Using PyVO\n",
    "\n",
    "import pyvo as vo\n",
    "ned_TAP = vo.dal.TAPService(ned_tab)\n",
    "ned_out = ned_TAP.search(query)\n",
    "ned_out.table"
   ]
  },
  {
   "cell_type": "markdown",
   "metadata": {},
   "source": [
    "<a id='SED_plot'></a>"
   ]
  },
  {
   "cell_type": "markdown",
   "metadata": {},
   "source": [
    "## (5) SED Plot - Fetch photometry data for a given list of object names and plot the SED"
   ]
  },
  {
   "cell_type": "code",
   "execution_count": 24,
   "metadata": {
    "execution": {
     "iopub.execute_input": "2025-01-31T22:33:50.671846Z",
     "iopub.status.busy": "2025-01-31T22:33:50.671526Z",
     "iopub.status.idle": "2025-01-31T22:34:00.425727Z",
     "shell.execute_reply": "2025-01-31T22:34:00.425107Z",
     "shell.execute_reply.started": "2025-01-31T22:33:50.671824Z"
    }
   },
   "outputs": [
    {
     "data": {
      "image/png": "[encoded data removed]",
      "text/plain": [
       "<Figure size 1500x1200 with 1 Axes>"
      ]
     },
     "metadata": {},
     "output_type": "display_data"
    }
   ],
   "source": [
    "# Using NED SED service \n",
    "\n",
    "import io\n",
    "import requests\n",
    "import urllib.parse\n",
    "import matplotlib.pyplot as plt\n",
    "from astropy.table import Table\n",
    "\n",
    "object_names = ('arp220','3c273','BL Lac')\n",
    "color        = ('r', 'b', 'g')\n",
    "\n",
    "NED_sed  = 'http://vo.ned.ipac.caltech.edu/services/accessSED?'\n",
    "\n",
    "plt.figure(figsize=(15,12))\n",
    "plt.rcParams.update({'font.size': 22})\n",
    "\n",
    "i=0\n",
    "for name in object_names:\n",
    "    paramters = { 'REQUEST':'getData','TARGETNAME':name }\n",
    "    NED_sed_response = requests.get(NED_sed, params = paramters)\n",
    "    if NED_sed_response.status_code == 200:\n",
    "        ned_data_table = Table.read(io.BytesIO(NED_sed_response.content))\n",
    "        x=ned_data_table['DataSpectralValue']\n",
    "        y=ned_data_table['DataFluxValue']\n",
    "        plt.plot(x, y, color[i])\n",
    "        j=-i*15\n",
    "        plt.annotate(name, xy=(x[j],y[j]), xytext=(x[j]*100,y[j]*100),arrowprops=dict(facecolor=color[i], shrink=0.05),color=color[i], fontsize=28)\n",
    "        i+=1\n",
    "plt.xlim(1e6,1e20)\n",
    "plt.ylim(1e-9,1e3)\n",
    "plt.yscale('log')\n",
    "plt.xscale('log')\n",
    "plt.show()\n"
   ]
  },
  {
   "cell_type": "code",
   "execution_count": null,
   "metadata": {},
   "outputs": [],
   "source": []
  }
 ],
 "metadata": {
  "kernelspec": {
   "display_name": "Python 3 (ipykernel)",
   "language": "python",
   "name": "python3"
  },
  "language_info": {
   "codemirror_mode": {
    "name": "ipython",
    "version": 3
   },
   "file_extension": ".py",
   "mimetype": "text/x-python",
   "name": "python",
   "nbconvert_exporter": "python",
   "pygments_lexer": "ipython3",
   "version": "3.11.9"
  }
 },
 "nbformat": 4,
 "nbformat_minor": 4
}
