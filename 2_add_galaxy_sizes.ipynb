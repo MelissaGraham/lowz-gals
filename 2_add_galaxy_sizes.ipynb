{
 "cells": [
  {
   "cell_type": "markdown",
   "id": "760e1ed7-a237-40b0-9bcc-3e8fbe301cef",
   "metadata": {},
   "source": [
    "# Add sizes to the catalog of low-z galaxies\n",
    "\n",
    "Get diameters from NED and add them to the CSV file.\n",
    "\n",
    "https://astroquery.readthedocs.io/en/latest/ipac/ned/ned.html#fetching-other-data-tables-for-an-object"
   ]
  },
  {
   "cell_type": "code",
   "execution_count": null,
   "id": "6f2c9253-d7be-4697-8674-1154891d0651",
   "metadata": {},
   "outputs": [],
   "source": [
    "import numpy as np\n",
    "import matplotlib.pyplot as plt\n",
    "from astroquery.ipac.ned import Ned"
   ]
  },
  {
   "cell_type": "code",
   "execution_count": null,
   "id": "2b1d76a4-679c-4259-9d3c-69ba9d3b1d3c",
   "metadata": {},
   "outputs": [],
   "source": [
    "speed_of_light = 3e18 # A/s"
   ]
  },
  {
   "cell_type": "markdown",
   "id": "851d9405-4c63-42bf-b917-b6d40c3473fb",
   "metadata": {},
   "source": [
    "## Read the list of low-z galaxies"
   ]
  },
  {
   "cell_type": "code",
   "execution_count": null,
   "id": "1d3b58c8-f394-4a0a-b3b2-d47b972d0fe2",
   "metadata": {},
   "outputs": [],
   "source": [
    "fnm = \"lowz_galaxies.csv\"\n",
    "gal_name = np.loadtxt(fnm, dtype='str', usecols=(0), delimiter=',')\n",
    "gal_ra = np.loadtxt(fnm, dtype='float', usecols=(1), delimiter=',')\n",
    "gal_dec = np.loadtxt(fnm, dtype='float', usecols=(2), delimiter=',')\n",
    "gal_z = np.loadtxt(fnm, dtype='float', usecols=(3), delimiter=',')"
   ]
  },
  {
   "cell_type": "markdown",
   "id": "eb9cf662-dd79-45a8-8761-15973b7c1010",
   "metadata": {},
   "source": [
    "## Get diameter data from NED\n",
    "\n",
    "For example, this is how to retrieve it."
   ]
  },
  {
   "cell_type": "code",
   "execution_count": null,
   "id": "274f1bc2-74ef-4692-86ef-34873a1f7d73",
   "metadata": {},
   "outputs": [],
   "source": [
    "# result_table = Ned.get_table(\"NGC 224\", table='diameters')\n",
    "result_table = Ned.get_table(\"IC 5371\", table='diameters')\n",
    "# result_table = Ned.get_table(\"IC 5377\", table='diameters')\n",
    "# result_table = Ned.get_table(\"NGC 7807\", table='diameters')\n",
    "result_table"
   ]
  },
  {
   "cell_type": "code",
   "execution_count": null,
   "id": "5864863f-f203-4871-baa7-7d51ebb2f099",
   "metadata": {},
   "outputs": [],
   "source": [
    "# result_table.colnames"
   ]
  },
  {
   "cell_type": "code",
   "execution_count": null,
   "id": "f4a2e064-f6ef-4828-980b-a887c01271d3",
   "metadata": {},
   "outputs": [],
   "source": [
    "# temp = np.asarray(result_table['Frequency targeted'], dtype='str')\n",
    "# for tmp in temp:\n",
    "#     if tmp.find('isophotal') > -1:\n",
    "#         print(tmp)"
   ]
  },
  {
   "cell_type": "markdown",
   "id": "540390e7-0c70-4668-a486-0ca47b5866a8",
   "metadata": {},
   "source": [
    "### Decide which diameter values to use\n",
    "\n",
    "Want to be consistent.\n",
    "\n",
    "To narrow the measurements down to a single diameter value: \n",
    "\n",
    "1. optical-NIR bands\n",
    "2. the most recent reference\n",
    "3. the smallest estimate (be conservative)\n",
    "\n",
    "Record in the table:\n",
    "\n",
    "1. NED Major Axis (its always diameter in arcsec not radius, not semi-)\n",
    "2. NED Axis Ratio\n",
    "3. NED Position Angle (always degrees east of north\n",
    "4. NED Frequency\n",
    "5. Refcode\n",
    "\n",
    "### Demonstrate diameter selection for one galaxy\n",
    "\n",
    "Choose the diameter using band, reference, and size for just one galaxy.\n",
    "\n",
    "Convert the NED Frequency to a wavelength."
   ]
  },
  {
   "cell_type": "code",
   "execution_count": null,
   "id": "9bc37496-64a8-4b92-8ee4-fc8df0b28940",
   "metadata": {},
   "outputs": [],
   "source": [
    "frequencies = np.asarray(result_table['NED Frequency'], dtype='float64')\n",
    "wavelengths = speed_of_light / frequencies"
   ]
  },
  {
   "cell_type": "markdown",
   "id": "9ee3e6ee-edbf-48aa-91ff-73646844aa3f",
   "metadata": {},
   "source": [
    "Get the year out of the reference code."
   ]
  },
  {
   "cell_type": "code",
   "execution_count": null,
   "id": "543e3565-baf4-4136-9a4a-44ae25a102ec",
   "metadata": {},
   "outputs": [],
   "source": [
    "refcodes = np.asarray(result_table['Refcode'], dtype='str')\n",
    "temp = []\n",
    "for refcode in refcodes:\n",
    "    temp.append(refcode[0:4])\n",
    "years = np.asarray(temp, dtype='int')\n",
    "del temp"
   ]
  },
  {
   "cell_type": "markdown",
   "id": "2d2c2287-da93-4ef5-8ff5-5f75ffb2e4a8",
   "metadata": {},
   "source": [
    "Get the major axes measurements."
   ]
  },
  {
   "cell_type": "code",
   "execution_count": null,
   "id": "1c373bca-6a72-4bfa-b721-e4e9dcf38304",
   "metadata": {},
   "outputs": [],
   "source": [
    "ned_major_axes = np.asarray(result_table['NED Major Axis'], dtype='float64')"
   ]
  },
  {
   "cell_type": "markdown",
   "id": "ba6496a4-6b7b-45c3-8d8f-a584e4bbbe0c",
   "metadata": {},
   "source": [
    "Write out the bands, years, and axes that will be used to make the selection."
   ]
  },
  {
   "cell_type": "code",
   "execution_count": null,
   "id": "79bd57a0-4253-4ff6-a138-d4f91a8ba0f6",
   "metadata": {},
   "outputs": [],
   "source": [
    "for i in range(len(result_table)):\n",
    "    print(wavelengths[i], years[i], ned_major_axes[i])"
   ]
  },
  {
   "cell_type": "markdown",
   "id": "a06a2648-ffa6-4ea4-ac5b-316a28497ba0",
   "metadata": {},
   "source": [
    "Impose the constraint of optical band and most recent reference.\n",
    "\n",
    "Then choose the smallest major axis estimate.\n",
    "\n",
    "Print the full record for the winning row."
   ]
  },
  {
   "cell_type": "code",
   "execution_count": null,
   "id": "0fb624e5-9d80-46e7-9131-2dba91cc22ba",
   "metadata": {},
   "outputs": [],
   "source": [
    "tx = np.where((wavelengths > 3000) & (wavelengths < 30000) & (years == np.max(years)))[0]\n",
    "mx = np.argmin(ned_major_axes[tx])\n",
    "result_table[tx[mx]]"
   ]
  },
  {
   "cell_type": "markdown",
   "id": "5a5a0465-531d-4c4a-bfea-17fce17a6877",
   "metadata": {},
   "source": [
    "The values added to the low-z galaxy table for this object would be the following."
   ]
  },
  {
   "cell_type": "code",
   "execution_count": null,
   "id": "d51f6772-019f-40fb-bd5d-661167d1cda5",
   "metadata": {},
   "outputs": [],
   "source": [
    "print('NED Major Axis: ', result_table['NED Major Axis'][tx[mx]])\n",
    "print('NED Axis Ratio: ', result_table['NED Axis Ratio'][tx[mx]])\n",
    "print('NED Position Angle: ', result_table['NED Position Angle'][tx[mx]])\n",
    "print('NED Frequency: ', result_table['NED Frequency'][tx[mx]])\n",
    "print('Refcode: ', result_table['Refcode'][tx[mx]])"
   ]
  },
  {
   "cell_type": "code",
   "execution_count": null,
   "id": "a2ba7797-8e1c-4be2-86e8-174885f64f91",
   "metadata": {},
   "outputs": [],
   "source": [
    "del result_table, tx, mx\n",
    "del frequencies, wavelengths, refcodes, years, ned_major_axes"
   ]
  },
  {
   "cell_type": "markdown",
   "id": "e6194b42-033e-4dca-8612-1e031b6c1d52",
   "metadata": {},
   "source": [
    "### Get diameters for all listed galaxies\n",
    "\n",
    "Results will be written out to file \"lowz_galaxies_with_diameters.csv\".\n",
    "\n",
    "Doing the NED query for thousands of objects will take a while.\n",
    "\n",
    "Write to the file as data is retrieved.\n",
    "Set up the write so that the process can be restarted from where it left off in case there is a NED connection issue.\n",
    "\n",
    "If the new file already exists, read in the list of galaxy names to `check_done_gals` and make a copy to protect it.\n",
    "Then open the file for writing in append mode.\n",
    "\n",
    "If the new file does not exist, create `check_done_gals` as a dummy variable to cross-match to.\n",
    "Then open the file for writing and write the header first."
   ]
  },
  {
   "cell_type": "code",
   "execution_count": null,
   "id": "c08f0f22-ed55-4e46-8b6f-0ad24204dfbb",
   "metadata": {
    "scrolled": true
   },
   "outputs": [],
   "source": [
    "fnm = 'lowz_galaxies_with_diameters.csv'\n",
    "if os.path.exists(fnm):\n",
    "    print('Does exist: ', fnm)\n",
    "    check_done_gals = np.loadtxt(fnm, dtype='str', usecols=(0), delimiter=',')\n",
    "    os.system('cp ' + fnm + ' PROTECT_' + fnm)\n",
    "    fout = open(fnm, 'a')\n",
    "else:\n",
    "    print('Does not exist: ', fnm)\n",
    "    check_done_gals = np.asarray(['dummy1','dummy2','dummy3'], dtype='str')\n",
    "    fout = open(fnm, 'w')\n",
    "    fout.write('# name, ra, dec, redshift, '+\\\n",
    "               'major axis, axis ratio, position angle, '+\\\n",
    "               'frequency, refcode \\n')\n",
    "    \n",
    "verbose = True\n",
    "\n",
    "for i in range(len(gal_name)):\n",
    "# for i in range(8000):\n",
    "    tx = np.where(gal_name[i] == check_done_gals)[0]\n",
    "\n",
    "    if len(tx) > 0:\n",
    "        if verbose:\n",
    "            print('already done: ', i, gal_name[i])    \n",
    "    elif len(tx) == 0:\n",
    "        try:\n",
    "            if verbose:\n",
    "                print('trying: ', i, gal_name[i])\n",
    "            result_table = Ned.get_table(gal_name[i], table='diameters')\n",
    "            \n",
    "            frequencies = np.asarray(result_table['NED Frequency'], dtype='float64')\n",
    "            wavelengths = speed_of_light / frequencies\n",
    "            \n",
    "            refcodes = np.asarray(result_table['Refcode'], dtype='str')\n",
    "            temp = []\n",
    "            for refcode in refcodes:\n",
    "                temp.append(refcode[0:4])\n",
    "            years = np.asarray(temp, dtype='int')\n",
    "            del temp\n",
    "    \n",
    "            ned_major_axes = np.asarray(result_table['NED Major Axis'], dtype='float64')\n",
    "    \n",
    "            tx = np.where((wavelengths > 3000) & (wavelengths < 30000) & (years == np.max(years)))[0]\n",
    "            if len(tx) > 1:\n",
    "                mx = np.argmin(ned_major_axes[tx])\n",
    "                ned_major_axis = float(result_table['NED Major Axis'][tx[mx]])\n",
    "                ned_axis_ratio = float(result_table['NED Axis Ratio'][tx[mx]])\n",
    "                ned_pos_angle = float(result_table['NED Position Angle'][tx[mx]])\n",
    "                ned_frequency = float(result_table['NED Frequency'][tx[mx]])\n",
    "                ned_refcode = result_table['Refcode'][tx[mx]]\n",
    "                del mx\n",
    "            elif len(tx) == 1:\n",
    "                ned_major_axis = float(result_table['NED Major Axis'][tx[0]])\n",
    "                ned_axis_ratio = float(result_table['NED Axis Ratio'][tx[0]])\n",
    "                ned_pos_angle = float(result_table['NED Position Angle'][tx[0]])\n",
    "                ned_frequency = float(result_table['NED Frequency'][tx[0]])\n",
    "                ned_refcode = result_table['Refcode'][tx[0]]\n",
    "            elif len(tx) == 0:\n",
    "                ned_major_axis = float(-99.99)\n",
    "                ned_axis_ratio = float(-99.99)\n",
    "                ned_pos_angle = float(-99.99)\n",
    "                ned_frequency = float(-99.99)\n",
    "                ned_refcode = '--'\n",
    "\n",
    "            del result_table, frequencies, wavelengths, refcodes, years, ned_major_axes, tx\n",
    "            \n",
    "        except:\n",
    "            if verbose:\n",
    "                print('except failure: ', gal_name[i])\n",
    "            ned_major_axis = float(-99.99)\n",
    "            ned_axis_ratio = float(-99.99)\n",
    "            ned_pos_angle = float(-99.99)\n",
    "            ned_frequency = float(-99.99)\n",
    "            ned_refcode = '--'\n",
    "\n",
    "        strout = gal_name[i] + ', '\n",
    "        strout += str(gal_ra[i]) + ', ' + str(gal_dec[i]) + ', '\n",
    "        strout += str(gal_z[i]) + ', '\n",
    "        strout += str(ned_major_axis) + ', '\n",
    "        strout += str(ned_axis_ratio) + ', '\n",
    "        strout += str(ned_pos_angle) + ', '\n",
    "        strout += str(ned_frequency) + ', '\n",
    "        strout += ned_refcode + ' \\n'\n",
    "        fout.write(strout)\n",
    "        del ned_major_axis, ned_axis_ratio, ned_pos_angle, ned_frequency\n",
    "        del ned_refcode, strout\n",
    "\n",
    "fout.close()"
   ]
  },
  {
   "cell_type": "code",
   "execution_count": null,
   "id": "1ac37f9b-8d1a-4d92-b465-8c4433d87dfc",
   "metadata": {},
   "outputs": [],
   "source": [
    "del fnm, verbose\n",
    "del gal_name, gal_ra, gal_dec, gal_z"
   ]
  },
  {
   "cell_type": "markdown",
   "id": "ba8f17a1-8fb9-4d15-94f4-6bdccd1a5e42",
   "metadata": {},
   "source": [
    "## Wait, how often was a lack of band the issue?"
   ]
  },
  {
   "cell_type": "code",
   "execution_count": null,
   "id": "09b8d922-03b9-4f83-ac65-875fd0ca836b",
   "metadata": {},
   "outputs": [],
   "source": [
    "fnm = \"lowz_galaxies_with_diameters.csv\"\n",
    "gal_name = np.loadtxt(fnm, dtype='str', usecols=(0), delimiter=',')\n",
    "gal_ra = np.loadtxt(fnm, dtype='float', usecols=(1), delimiter=',')\n",
    "gal_dec = np.loadtxt(fnm, dtype='float', usecols=(2), delimiter=',')\n",
    "gal_z = np.loadtxt(fnm, dtype='float', usecols=(3), delimiter=',')\n",
    "gal_ma = np.loadtxt(fnm, dtype='float', usecols=(4), delimiter=',')\n",
    "gal_ar = np.loadtxt(fnm, dtype='float', usecols=(5), delimiter=',')\n",
    "gal_pa = np.loadtxt(fnm, dtype='float', usecols=(6), delimiter=',')\n",
    "gal_fr = np.loadtxt(fnm, dtype='float', usecols=(7), delimiter=',')\n",
    "gal_rc = np.loadtxt(fnm, dtype='str', usecols=(8), delimiter=',')"
   ]
  },
  {
   "cell_type": "code",
   "execution_count": null,
   "id": "c750e8b4-7d8f-407d-be6b-b35f2e67ce15",
   "metadata": {},
   "outputs": [],
   "source": [
    "print(len(gal_name))"
   ]
  },
  {
   "cell_type": "code",
   "execution_count": null,
   "id": "45fe4b9e-6822-400e-af63-fc0661480260",
   "metadata": {},
   "outputs": [],
   "source": [
    "tx = np.where(gal_ma < 0.0)[0]\n",
    "print(len(tx))"
   ]
  },
  {
   "cell_type": "code",
   "execution_count": null,
   "id": "9d023c47-4a68-4d3d-83c4-d998db4029db",
   "metadata": {
    "scrolled": true
   },
   "outputs": [],
   "source": [
    "gal_fail_flag = np.zeros(len(gal_name), dtype='int')\n",
    "# -1 : no NED info retrieved\n",
    "#  0 : major axis was found already\n",
    "#  1 : there was a major axis in optical band\n",
    "#  2 : there was a major axis in a non-optical band\n",
    "#  3 : there was a major axis estimate\n",
    "#  4 : there was no major axis estimate\n",
    "\n",
    "temp_band = []\n",
    "\n",
    "for i in range(len(gal_name)):\n",
    "    if gal_ma[i] < 0.0:\n",
    "        gal_fail_flag[i] = 5\n",
    "        try:\n",
    "            # print(i, gal_name[i])\n",
    "            result_table = Ned.get_table(gal_name[i], table='diameters')\n",
    "\n",
    "            frequencies = np.asarray(result_table['NED Frequency'], dtype='float64')\n",
    "            wavelengths = speed_of_light / frequencies\n",
    "\n",
    "            refcodes = np.asarray(result_table['Refcode'], dtype='str')\n",
    "            temp = []\n",
    "            for refcode in refcodes:\n",
    "                temp.append(refcode[0:4])\n",
    "            years = np.asarray(temp, dtype='int')\n",
    "            del temp\n",
    "\n",
    "            ned_major_axes = np.asarray(result_table['NED Major Axis'], dtype='float64')\n",
    "\n",
    "            tx1 = np.where(((wavelengths > 3000) | (wavelengths < 30000)) & \\\n",
    "                           (ned_major_axes > 0.0))[0]\n",
    "            tx2 = np.where(((wavelengths <= 3000) | (wavelengths >= 30000)) & \\\n",
    "                           (ned_major_axes > 0.0))[0]\n",
    "            tx3 = np.where(ned_major_axes > 0.0)[0]\n",
    "            if len(tx3) > 0:\n",
    "                gal_fail_flag[i] = 3\n",
    "            if len(tx2) > 0:\n",
    "                gal_fail_flag[i] = 2\n",
    "                \n",
    "            if len(tx1) > 0:\n",
    "                gal_fail_flag[i] = 1\n",
    "                for x in tx1:\n",
    "                    temp_band.append(result_table['NED Frequency'][x])\n",
    "            else:\n",
    "                gal_fail_flag[i] = 4\n",
    "\n",
    "        except:\n",
    "            gal_fail_flag[i] = -1"
   ]
  },
  {
   "cell_type": "code",
   "execution_count": null,
   "id": "6d778afe-a548-4f45-9b08-5ae226af91bf",
   "metadata": {},
   "outputs": [],
   "source": [
    "values, counts = np.unique(gal_fail_flag, return_counts = True)\n",
    "for value, count in zip(values, counts):\n",
    "    print(value, count)"
   ]
  },
  {
   "cell_type": "code",
   "execution_count": null,
   "id": "ad5b917d-560e-4fff-a299-9aa8137348a2",
   "metadata": {},
   "outputs": [],
   "source": [
    "bands = np.asarray(temp_band, dtype='str')\n",
    "values, counts = np.unique(bands, return_counts = True)\n",
    "for value, count in zip(values, counts):\n",
    "    print('%22s %10.2f %5i' % (value, speed_of_light / float(value), count))"
   ]
  },
  {
   "cell_type": "code",
   "execution_count": null,
   "id": "59468248-eea1-46ea-9aa9-19f018470752",
   "metadata": {},
   "outputs": [],
   "source": [
    "del temp_band, bans, values, counts, gal_fail_flag"
   ]
  },
  {
   "cell_type": "markdown",
   "id": "6193fce9-1e92-40df-b43b-b73cd88f592c",
   "metadata": {},
   "source": [
    "### Fill in where we missed\n",
    "\n",
    "In 440 low-z galaxies, there was an optical/NIR size available. Go back through and write it out."
   ]
  },
  {
   "cell_type": "code",
   "execution_count": null,
   "id": "b2706299-2560-4195-aec9-62d6c816e3de",
   "metadata": {
    "scrolled": true
   },
   "outputs": [],
   "source": [
    "fnm = 'lowz_galaxies_with_diameters_fix.csv'\n",
    "fout = open(fnm, 'w')\n",
    "fout.write('# name, ra, dec, redshift, '+\\\n",
    "           'major axis, axis ratio, position angle, '+\\\n",
    "           'frequency, refcode \\n')\n",
    "\n",
    "tally1 = 0\n",
    "tally2 = 0\n",
    "tally3 = 0\n",
    "tally4 = 0\n",
    "\n",
    "for i in range(len(gal_name)):\n",
    "    if gal_ma[i] < 0.0:\n",
    "        try:\n",
    "            result_table = Ned.get_table(gal_name[i], table='diameters')\n",
    "            \n",
    "            frequencies = np.asarray(result_table['NED Frequency'], dtype='float64')\n",
    "            wavelengths = speed_of_light / frequencies\n",
    "            ned_major_axes = np.asarray(result_table['NED Major Axis'], dtype='float64')\n",
    "\n",
    "            tx1 = np.where(((wavelengths > 3000) | (wavelengths < 30000)) & \\\n",
    "                           (ned_major_axes > 0.0))[0]                \n",
    "            if len(tx1) > 1:\n",
    "                mx = np.argmin(ned_major_axes[tx1])\n",
    "                ned_major_axis = float(result_table['NED Major Axis'][tx1[mx]])\n",
    "                ned_axis_ratio = float(result_table['NED Axis Ratio'][tx1[mx]])\n",
    "                ned_pos_angle = float(result_table['NED Position Angle'][tx1[mx]])\n",
    "                ned_frequency = float(result_table['NED Frequency'][tx1[mx]])\n",
    "                ned_refcode = result_table['Refcode'][tx1[mx]]\n",
    "                del mx\n",
    "                tally1 += 1 \n",
    "            elif len(tx1) == 1:\n",
    "                ned_major_axis = float(result_table['NED Major Axis'][tx1[0]])\n",
    "                ned_axis_ratio = float(result_table['NED Axis Ratio'][tx1[0]])\n",
    "                ned_pos_angle = float(result_table['NED Position Angle'][tx1[0]])\n",
    "                ned_frequency = float(result_table['NED Frequency'][tx1[0]])\n",
    "                ned_refcode = result_table['Refcode'][tx1[mx]]\n",
    "                tally1 += 1\n",
    "            else:\n",
    "                ned_major_axis = float(-99.99)\n",
    "                ned_axis_ratio = float(-99.99)\n",
    "                ned_pos_angle = float(-99.99)\n",
    "                ned_frequency = float(-99.99)\n",
    "                ned_refcode = '--'\n",
    "                tally2 += 1\n",
    "\n",
    "            del result_table, frequencies, wavelengths, ned_major_axes, tx1\n",
    "            \n",
    "        except:\n",
    "            ned_major_axis = float(-99.99)\n",
    "            ned_axis_ratio = float(-99.99)\n",
    "            ned_pos_angle = float(-99.99)\n",
    "            ned_frequency = float(-99.99)\n",
    "            ned_refcode = '--'\n",
    "            tally3 += 1\n",
    "\n",
    "    else:\n",
    "        ned_major_axis = gal_ma[i]\n",
    "        ned_axis_ratio = gal_ar[i]\n",
    "        ned_pos_angle = gal_pa[i]\n",
    "        ned_frequency = gal_fr[i]\n",
    "        ned_refcode = gal_rc[i]\n",
    "        tally4 += 1\n",
    "\n",
    "    strout = gal_name[i] + ', '\n",
    "    strout += str(gal_ra[i]) + ', ' + str(gal_dec[i]) + ', '\n",
    "    strout += str(gal_z[i]) + ', '\n",
    "    strout += str(ned_major_axis) + ', '\n",
    "    strout += str(ned_axis_ratio) + ', '\n",
    "    strout += str(ned_pos_angle) + ', '\n",
    "    strout += str(ned_frequency) + ', '\n",
    "    strout += ned_refcode + ' \\n'\n",
    "    fout.write(strout)\n",
    "    del ned_major_axis, ned_axis_ratio, ned_pos_angle, ned_frequency\n",
    "    del ned_refcode, strout\n",
    "\n",
    "fout.close()"
   ]
  },
  {
   "cell_type": "code",
   "execution_count": null,
   "id": "698c9043-f38c-4409-8587-94610e1bb390",
   "metadata": {},
   "outputs": [],
   "source": [
    "print(tally1, tally2, tally3, tally4)"
   ]
  },
  {
   "cell_type": "code",
   "execution_count": null,
   "id": "d9889722-7060-471b-b7e1-4b85dc8758c7",
   "metadata": {},
   "outputs": [],
   "source": [
    "print(tally1 + tally2 + tally3 + tally4)"
   ]
  },
  {
   "cell_type": "code",
   "execution_count": null,
   "id": "5e1b2042-32dc-41c2-a4d4-53a6a9017198",
   "metadata": {},
   "outputs": [],
   "source": [
    "del tally1, tally2, tally3, tally4\n",
    "del gal_name, gal_ra, gal_dec, gal_z\n",
    "del gal_ma, gal_ar, gal_pz, gal_fr, gal_rc"
   ]
  },
  {
   "cell_type": "markdown",
   "id": "9c714eb2-c16c-418f-a630-a5d56c9e9162",
   "metadata": {},
   "source": [
    "## Explore duplicates"
   ]
  },
  {
   "cell_type": "code",
   "execution_count": null,
   "id": "f177a278-3cf6-4ed5-a339-697b8f4f96d9",
   "metadata": {},
   "outputs": [],
   "source": [
    "fnm = \"lowz_galaxies_with_diameters_fix.csv\"\n",
    "gal_name = np.loadtxt(fnm, dtype='str', usecols=(0), delimiter=',')\n",
    "gal_ra = np.loadtxt(fnm, dtype='float', usecols=(1), delimiter=',')\n",
    "gal_dec = np.loadtxt(fnm, dtype='float', usecols=(2), delimiter=',')\n",
    "gal_z = np.loadtxt(fnm, dtype='float', usecols=(3), delimiter=',')\n",
    "gal_ma = np.loadtxt(fnm, dtype='float', usecols=(4), delimiter=',')\n",
    "gal_ar = np.loadtxt(fnm, dtype='float', usecols=(5), delimiter=',')\n",
    "gal_pa = np.loadtxt(fnm, dtype='float', usecols=(6), delimiter=',')\n",
    "gal_fr = np.loadtxt(fnm, dtype='float', usecols=(7), delimiter=',')\n",
    "gal_rc = np.loadtxt(fnm, dtype='str', usecols=(8), delimiter=',')"
   ]
  },
  {
   "cell_type": "code",
   "execution_count": null,
   "id": "7d6917da-04ba-4f60-bbea-46787499fbea",
   "metadata": {},
   "outputs": [],
   "source": [
    "radius = 30.0 #arcsec\n",
    "gal_nn = np.zeros(len(gal_name), dtype='int')\n",
    "gal_nn_ys = np.zeros(len(gal_name), dtype='int')\n",
    "gal_nn_ns = np.zeros(len(gal_name), dtype='int')\n",
    "\n",
    "for i, name in enumerate(gal_name):\n",
    "    temp = np.sqrt(((np.cos(np.deg2rad(gal_dec[i]))) * (gal_ra[i] - gal_ra))**2 + \n",
    "                   (gal_dec[i] - gal_dec)**2)\n",
    "    tx = np.where((temp > 0) & (temp < radius/3600.0))[0]\n",
    "    tx1 = np.where((temp > 0) & (temp < radius/3600.0) & (gal_ma > 0.0))[0]\n",
    "    tx2 = np.where((temp > 0) & (temp < radius/3600.0) & (gal_ma <= 0.0))[0]\n",
    "    gal_nn[i] = len(tx)\n",
    "    gal_nn_ys[i] = len(tx1)\n",
    "    gal_nn_ns[i] = len(tx2)\n",
    "    del temp, tx, tx1, tx2"
   ]
  },
  {
   "cell_type": "code",
   "execution_count": null,
   "id": "6d2b3ed2-658e-4694-b03e-3caef8986f01",
   "metadata": {},
   "outputs": [],
   "source": [
    "print('Number of neighbors.')\n",
    "values, counts = np.unique(gal_nn, return_counts = True)\n",
    "for value, count in zip(values, counts):\n",
    "    print(value, count)\n",
    "\n",
    "print('Number of neighbors that have a size.')\n",
    "values, counts = np.unique(gal_nn_ys, return_counts = True)\n",
    "for value, count in zip(values, counts):\n",
    "    print(value, count)\n",
    "\n",
    "print('Number of neighbors that do not have a size.')\n",
    "values, counts = np.unique(gal_nn_ns, return_counts = True)\n",
    "for value, count in zip(values, counts):\n",
    "    print(value, count)"
   ]
  },
  {
   "cell_type": "code",
   "execution_count": null,
   "id": "33b16766-afe9-4d45-9415-93f0e55d72d8",
   "metadata": {},
   "outputs": [],
   "source": [
    "tx1 = np.where(gal_ma <= 0.0)[0]\n",
    "print('Number with no size: ', len(tx1))\n",
    "tx2 = np.where((gal_ma <= 0.0) & (gal_nn_ys > 0))[0]\n",
    "print('... but do have neighbor with size:', len(tx2))"
   ]
  },
  {
   "cell_type": "code",
   "execution_count": null,
   "id": "92288f41-b82c-4e0e-a1de-04dadb40eb6f",
   "metadata": {},
   "outputs": [],
   "source": [
    "tx = np.where((gal_ma <= 0.0) & (gal_nn_ys > 0))[0]\n",
    "sx = np.argsort(gal_name[tx])\n",
    "for x in sx:\n",
    "    i = tx[x]\n",
    "    print(gal_name[i], gal_ra[i], gal_dec[i], gal_ma[i])\n",
    "    temp = np.sqrt(((np.cos(np.deg2rad(gal_dec[i]))) * (gal_ra[i] - gal_ra))**2 + \n",
    "                   (gal_dec[i] - gal_dec)**2)\n",
    "    tx1 = np.where((temp > 0) & (temp < radius/3600.0) & (gal_ma > 0.0))[0]\n",
    "    for j in tx1:\n",
    "        tmp = '-'\n",
    "        if temp[j]*3600.0 < gal_ma[j]:\n",
    "            tmp = 'IN'\n",
    "        print(' # ', gal_name[j], gal_ra[j], gal_dec[j], gal_ma[j], ' off=', np.round(temp[j]*3600.0,1), tmp)\n",
    "    print(' ')"
   ]
  },
  {
   "cell_type": "code",
   "execution_count": null,
   "id": "6077ae3d-3bb5-4b56-b9b0-809f7b05083f",
   "metadata": {},
   "outputs": [],
   "source": [
    "# ix = np.where(gal_nn == 5)[0]\n",
    "# for i in ix:\n",
    "#     print(gal_name[i], gal_ma[i])\n",
    "#     temp = np.sqrt(((np.cos(np.deg2rad(gal_dec[i]))) * (gal_ra[i] - gal_ra))**2 + \n",
    "#                    (gal_dec[i] - gal_dec)**2)\n",
    "#     tx = np.where((temp > 0) & (temp < radius/3600.0))[0]\n",
    "#     for x in tx:\n",
    "#         print('   ', gal_name[x], gal_ma[x])"
   ]
  },
  {
   "cell_type": "code",
   "execution_count": null,
   "id": "c2e989d6-fc3f-42ce-a675-00fcc724e078",
   "metadata": {},
   "outputs": [],
   "source": []
  },
  {
   "cell_type": "code",
   "execution_count": null,
   "id": "da691f69-1c6d-4dc9-9d98-3b0e41938615",
   "metadata": {},
   "outputs": [],
   "source": []
  }
 ],
 "metadata": {
  "kernelspec": {
   "display_name": "LSST",
   "language": "python",
   "name": "lsst"
  },
  "language_info": {
   "codemirror_mode": {
    "name": "ipython",
    "version": 3
   },
   "file_extension": ".py",
   "mimetype": "text/x-python",
   "name": "python",
   "nbconvert_exporter": "python",
   "pygments_lexer": "ipython3",
   "version": "3.11.9"
  }
 },
 "nbformat": 4,
 "nbformat_minor": 5
}
