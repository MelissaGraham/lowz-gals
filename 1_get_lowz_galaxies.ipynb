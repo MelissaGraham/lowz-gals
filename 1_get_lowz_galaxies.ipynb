{
 "cells": [
  {
   "cell_type": "markdown",
   "id": "edd1dd3e-0ba7-488b-b44c-35d765816a51",
   "metadata": {},
   "source": [
    "# Create a catalog of low-z galaxies\n",
    "\n",
    "Details:\n",
    "https://rubinobs.atlassian.net/browse/SP-1896\n",
    "\n",
    "NED query:\n",
    "```\n",
    "RA: Unconstrained\n",
    "DEC: Between -90d00m00.0000s and +40d00m00.0000s\n",
    "GLON: Unconstrained\n",
    "GLAT: Unconstrained\n",
    "Redshift: Less Than 0.100000\n",
    "Flux density: Unconstrained\n",
    "Flux ratio: Unconstrained\n",
    "Include ANY Object Type: Galaxies\n",
    "Exclude Object Type:\n",
    "Parameters for Distances and Cosmology: Ho= 73.0; Ωmatter = 0.27; Ωvacuum = 0.73;\n",
    "Correct Redshift To the Reference Frame defined by the 3K CMB\n",
    "Include objects with ANY of the 2 name prefixes selected: \"NGC\" , \"IC\"\n",
    "```"
   ]
  },
  {
   "cell_type": "code",
   "execution_count": null,
   "id": "33eb73bf-a236-4522-a615-e6e7df1e1dbf",
   "metadata": {},
   "outputs": [],
   "source": [
    "import numpy as np\n",
    "import matplotlib.pyplot as plt\n",
    "import os"
   ]
  },
  {
   "cell_type": "markdown",
   "id": "6952d7b4-51b6-477f-8d8e-9e52b2b671a6",
   "metadata": {
    "execution": {
     "iopub.execute_input": "2025-01-24T22:20:28.296301Z",
     "iopub.status.busy": "2025-01-24T22:20:28.295523Z",
     "iopub.status.idle": "2025-01-24T22:20:28.300697Z",
     "shell.execute_reply": "2025-01-24T22:20:28.300018Z",
     "shell.execute_reply.started": "2025-01-24T22:20:28.296276Z"
    }
   },
   "source": [
    "## Create CSV file.\n",
    "\n",
    "Read from file \"ned_results.txt\".\n",
    "\n",
    "Write just the name, RA, Dec, and redshift to \"lowz_galaxies.csv\".\n",
    "\n",
    "Print a few first lines to make sure you've skipped the header appropriately."
   ]
  },
  {
   "cell_type": "code",
   "execution_count": null,
   "id": "730d8df9-450f-4467-bcc6-40e5b1c570ca",
   "metadata": {},
   "outputs": [],
   "source": [
    "fnm_in = 'ned_results.txt'\n",
    "fnm_out = 'lowz_galaxies.csv'\n",
    "fout = open(fnm_out, 'w')\n",
    "fout.write('# name, ra, dec, redshift \\n')\n",
    "\n",
    "i = 0\n",
    "for line in open(fnm_in, 'r'):\n",
    "    if i >= 22:\n",
    "        if i < 25:\n",
    "            print(line)\n",
    "        x = line.split('|')\n",
    "        tmp1 = x[1].strip(' ')\n",
    "        tmp2 = x[2].strip(' ')\n",
    "        tmp3 = x[3].strip(' ')\n",
    "        tmp4 = x[6].strip(' ')\n",
    "        fout.write(tmp1 + ', ' + tmp2 + ', ' + tmp3 + ', ' + tmp4 + ' \\n')\n",
    "        del x, tmp1, tmp2, tmp3, tmp4\n",
    "    i += 1\n",
    "fout.close()\n",
    "\n",
    "del i, fnm_in, fnm_out, fout"
   ]
  },
  {
   "cell_type": "markdown",
   "id": "a9b35d6c-aa05-4655-8b6f-6c14ca7e8147",
   "metadata": {},
   "source": [
    "## Characterize the low-z galaxy set.\n",
    "\n",
    "Read the data into numpy arrays."
   ]
  },
  {
   "cell_type": "code",
   "execution_count": null,
   "id": "5f0fd499-7d16-4e14-9b54-544c292a215d",
   "metadata": {},
   "outputs": [],
   "source": [
    "fnm = \"lowz_galaxies.csv\"\n",
    "gal_name = np.loadtxt(fnm, dtype='str', usecols=(0), delimiter=',')\n",
    "gal_ra = np.loadtxt(fnm, dtype='float', usecols=(1), delimiter=',')\n",
    "gal_dec = np.loadtxt(fnm, dtype='float', usecols=(2), delimiter=',')\n",
    "gal_z = np.loadtxt(fnm, dtype='float', usecols=(3), delimiter=',')"
   ]
  },
  {
   "cell_type": "markdown",
   "id": "7a60a1c1-d272-4dfd-a5d1-eeb9006b1409",
   "metadata": {},
   "source": [
    "Number of unique catalogs (by object name).\n",
    "\n",
    "Number of galaxies from each unique catalog)."
   ]
  },
  {
   "cell_type": "code",
   "execution_count": null,
   "id": "04dfea8a-c8b6-4d90-9358-75a8f5d004bd",
   "metadata": {},
   "outputs": [],
   "source": [
    "temp = []\n",
    "for name in gal_name:\n",
    "    tmp = name.split(' ')\n",
    "    temp.append(tmp[0])\n",
    "gal_cats = np.asarray(temp, dtype='str')\n",
    "del temp\n",
    "\n",
    "values, counts = np.unique(gal_cats, return_counts=True)\n",
    "print('Number of unique catalogs by object name: ', len(values))\n",
    "\n",
    "print(' ')\n",
    "Nmax = 10\n",
    "print('The top ', Nmax, ' catalogs: ')\n",
    "sx = np.flip(np.argsort(counts))\n",
    "for i, x in enumerate(sx):\n",
    "    if i < Nmax:\n",
    "        print('%-15s %5i' % (values[x], counts[x]))"
   ]
  },
  {
   "cell_type": "markdown",
   "id": "436933d2-a3b8-4759-9914-c382a80620da",
   "metadata": {},
   "source": [
    "Sky coverage."
   ]
  },
  {
   "cell_type": "code",
   "execution_count": null,
   "id": "4f79bebe-3b00-4afd-bcbf-85c32fcfd94b",
   "metadata": {},
   "outputs": [],
   "source": [
    "fig = plt.figure(figsize = (6, 2))\n",
    "plt.plot(gal_ra, gal_dec, 'o', ms=3, alpha=0.3, mew=0, color='black')\n",
    "plt.xlabel('RA')\n",
    "plt.ylabel('Dec')\n",
    "plt.show()"
   ]
  },
  {
   "cell_type": "markdown",
   "id": "2e89b4fb-6254-48a1-a9f8-c67bf65125b6",
   "metadata": {
    "execution": {
     "iopub.execute_input": "2025-01-24T22:42:07.652305Z",
     "iopub.status.busy": "2025-01-24T22:42:07.651393Z",
     "iopub.status.idle": "2025-01-24T22:42:07.659874Z",
     "shell.execute_reply": "2025-01-24T22:42:07.658331Z",
     "shell.execute_reply.started": "2025-01-24T22:42:07.652257Z"
    }
   },
   "source": [
    "Redshift distribution."
   ]
  },
  {
   "cell_type": "code",
   "execution_count": null,
   "id": "f4b000d2-db64-4f24-9b56-f0f5846cb965",
   "metadata": {},
   "outputs": [],
   "source": [
    "fig = plt.figure(figsize = (6, 2))\n",
    "plt.hist(gal_z, bins=110, log=True)\n",
    "plt.xlabel('redshift')\n",
    "plt.show()"
   ]
  },
  {
   "cell_type": "markdown",
   "id": "bed45991-80eb-442f-80fd-736d64ab1dbc",
   "metadata": {},
   "source": [
    "How many had negative velocities (negative redshifts)?"
   ]
  },
  {
   "cell_type": "code",
   "execution_count": null,
   "id": "60d2a230-cc9c-4f48-a3eb-740cae1dc5c9",
   "metadata": {},
   "outputs": [],
   "source": [
    "tx = np.where(gal_z <= 0.0)[0]\n",
    "print(len(tx), '(', np.round(100.0 * len(tx) / len(gal_z), 2) , '%)')\n",
    "\n",
    "# for x in tx:\n",
    "#     print(gal_name[x], gal_z[x])"
   ]
  },
  {
   "cell_type": "markdown",
   "id": "5a021169-ddd0-4038-a778-0ee5770a6da7",
   "metadata": {},
   "source": [
    "How many galaxies might be duplicates?"
   ]
  },
  {
   "cell_type": "code",
   "execution_count": null,
   "id": "60e41278-81c8-4fb9-99cc-341c0a7ec155",
   "metadata": {},
   "outputs": [],
   "source": [
    "templist = ['NED01', 'NED02', 'NED03', 'NED04', 'NED05']\n",
    "for temp in templist:\n",
    "    tally = 0\n",
    "    for name in gal_name:\n",
    "        if name.find(temp) >= 0:\n",
    "            tally += 1\n",
    "    print(temp, tally)\n",
    "del templist, tally"
   ]
  },
  {
   "cell_type": "markdown",
   "id": "69ad323c-8360-4282-a31e-12a9eadb0c2d",
   "metadata": {},
   "source": [
    "How many galaxies have nearby neighbors within 30\"?"
   ]
  },
  {
   "cell_type": "code",
   "execution_count": null,
   "id": "096ba041-e4d4-4123-a889-c4d52933316d",
   "metadata": {},
   "outputs": [],
   "source": [
    "radius = 30.0 #arcsec\n",
    "gal_nn = np.zeros(len(gal_name), dtype='int')\n",
    "for i, name in enumerate(gal_name):\n",
    "    temp = np.sqrt(((np.cos(np.deg2rad(gal_dec[i]))) * (gal_ra[i] - gal_ra))**2 + \n",
    "                   (gal_dec[i] - gal_dec)**2)\n",
    "    tx = np.where((temp > 0) & (temp < radius/3600.0))[0]\n",
    "    gal_nn[i] = len(tx)\n",
    "    del temp, tx\n",
    "\n",
    "values, counts = np.unique(gal_nn, return_counts = True)\n",
    "for value, count in zip(values, counts):\n",
    "    print(value, count)"
   ]
  },
  {
   "cell_type": "code",
   "execution_count": null,
   "id": "36921c4e-83ac-4918-8139-a9e7d55255ba",
   "metadata": {},
   "outputs": [],
   "source": []
  }
 ],
 "metadata": {
  "kernelspec": {
   "display_name": "LSST",
   "language": "python",
   "name": "lsst"
  },
  "language_info": {
   "codemirror_mode": {
    "name": "ipython",
    "version": 3
   },
   "file_extension": ".py",
   "mimetype": "text/x-python",
   "name": "python",
   "nbconvert_exporter": "python",
   "pygments_lexer": "ipython3",
   "version": "3.12.10"
  }
 },
 "nbformat": 4,
 "nbformat_minor": 5
}
